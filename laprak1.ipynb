{
  "nbformat": 4,
  "nbformat_minor": 0,
  "metadata": {
    "colab": {
      "provenance": [],
      "authorship_tag": "ABX9TyPRYpVNq1IgoEGFdjZWLFJI",
      "include_colab_link": true
    },
    "kernelspec": {
      "name": "python3",
      "display_name": "Python 3"
    },
    "language_info": {
      "name": "python"
    }
  },
  "cells": [
    {
      "cell_type": "markdown",
      "metadata": {
        "id": "view-in-github",
        "colab_type": "text"
      },
      "source": [
        "<a href=\"https://colab.research.google.com/github/agungibr/algorithm-practicum/blob/main/laprak1.ipynb\" target=\"_parent\"><img src=\"https://colab.research.google.com/assets/colab-badge.svg\" alt=\"Open In Colab\"/></a>"
      ]
    },
    {
      "cell_type": "code",
      "execution_count": null,
      "metadata": {
        "colab": {
          "base_uri": "https://localhost:8080/"
        },
        "id": "oyyeosy4RGqe",
        "outputId": "3554e164-5fb0-4759-cfe1-59860c8e3053"
      },
      "outputs": [
        {
          "output_type": "stream",
          "name": "stdout",
          "text": [
            "Patrick Dempsey Star\n",
            "123456789\n",
            "Jalan Conch No. 120, kota Bikini Bottom, pulau Bikini Atoll\n",
            "26 Februari 1986\n",
            "Laki-laki\n",
            "37 tahun\n",
            "0812345678\n"
          ]
        }
      ],
      "source": [
        "nama = \"Patrick Dempsey Star\"\n",
        "nim = \"123456789\"\n",
        "alamat = \"Jalan Conch No. 120, kota Bikini Bottom, pulau Bikini Atoll\"\n",
        "tanggal_lahir = \"26 Februari 1986\"\n",
        "jenis_kelamin = \"Laki-laki\"\n",
        "umur = \"37 tahun\"\n",
        "no_hp = '0812345678'\n",
        "\n",
        "print (nama)\n",
        "print (nim)\n",
        "print (alamat)\n",
        "print (tanggal_lahir)\n",
        "print (jenis_kelamin)\n",
        "print (umur)\n",
        "print (no_hp)"
      ]
    },
    {
      "cell_type": "code",
      "source": [
        "perkenalan = \"\"\"\n",
        "Lorem ipsum dolor sit amet, consectetur adipiscing elit.\n",
        "Ut ut lectus id nunc egestas aliquet.\n",
        "Pellentesque habitant morbi tristique senectus et netus et malesuada fames ac turpis egestas.\n",
        "Donec erat felis, varius ac nisl ac, fermentum imperdiet orci. Nullam facilisis varius orci, in condimentum leo finibus ut.\n",
        "Mauris eu venenatis nisl, sed pharetra ligula.\n",
        "Integer tristique sollicitudin efficitur.\n",
        "Nullam feugiat tortor tellus, a rhoncus nunc rutrum at.\n",
        "Integer ante diam, malesuada vel ligula nec, luctus maximus arcu.\n",
        "\"\"\"\n",
        "\n",
        "print (perkenalan)"
      ],
      "metadata": {
        "colab": {
          "base_uri": "https://localhost:8080/"
        },
        "id": "DhxgO-CJRZ_x",
        "outputId": "a680a9ea-5bf5-430c-ef32-ceb0a10abf57"
      },
      "execution_count": null,
      "outputs": [
        {
          "output_type": "stream",
          "name": "stdout",
          "text": [
            "\n",
            "Lorem ipsum dolor sit amet, consectetur adipiscing elit. \n",
            "Ut ut lectus id nunc egestas aliquet. \n",
            "Pellentesque habitant morbi tristique senectus et netus et malesuada fames ac turpis egestas. \n",
            "Donec erat felis, varius ac nisl ac, fermentum imperdiet orci. Nullam facilisis varius orci, in condimentum leo finibus ut. \n",
            "Mauris eu venenatis nisl, sed pharetra ligula. \n",
            "Integer tristique sollicitudin efficitur. \n",
            "Nullam feugiat tortor tellus, a rhoncus nunc rutrum at. \n",
            "Integer ante diam, malesuada vel ligula nec, luctus maximus arcu.\n",
            "\n"
          ]
        }
      ]
    }
  ]
}