{
  "nbformat": 4,
  "nbformat_minor": 0,
  "metadata": {
    "colab": {
      "provenance": [],
      "authorship_tag": "ABX9TyN9lowBnrcELXfKcflDCXm/",
      "include_colab_link": true
    },
    "kernelspec": {
      "name": "python3",
      "display_name": "Python 3"
    },
    "language_info": {
      "name": "python"
    }
  },
  "cells": [
    {
      "cell_type": "markdown",
      "metadata": {
        "id": "view-in-github",
        "colab_type": "text"
      },
      "source": [
        "<a href=\"https://colab.research.google.com/github/agungibr/laporan-praktek/blob/main/pertemuan5.ipynb\" target=\"_parent\"><img src=\"https://colab.research.google.com/assets/colab-badge.svg\" alt=\"Open In Colab\"/></a>"
      ]
    },
    {
      "cell_type": "code",
      "execution_count": 6,
      "metadata": {
        "colab": {
          "base_uri": "https://localhost:8080/"
        },
        "id": "EsNpaVp2UXZl",
        "outputId": "18ec4b35-e28f-4007-eda0-73da2caf382b"
      },
      "outputs": [
        {
          "output_type": "stream",
          "name": "stdout",
          "text": [
            "grade A\n"
          ]
        }
      ],
      "source": [
        "nilai = 91\n",
        "if nilai >= 90:\n",
        "  print(\"grade A\")"
      ]
    },
    {
      "cell_type": "code",
      "source": [
        "nilai = 71\n",
        "if nilai >= 90:\n",
        "  print(\"grade A\")\n",
        "else:\n",
        "  print(\"grade B\")"
      ],
      "metadata": {
        "colab": {
          "base_uri": "https://localhost:8080/"
        },
        "id": "bGFP8BpIU0k7",
        "outputId": "92eb07dd-f273-4e62-b491-9ba35f3b3d26"
      },
      "execution_count": 9,
      "outputs": [
        {
          "output_type": "stream",
          "name": "stdout",
          "text": [
            "grade B\n"
          ]
        }
      ]
    },
    {
      "cell_type": "code",
      "source": [
        "nilai = 61\n",
        "if nilai >= 90:\n",
        "  print(\"grade A\")\n",
        "elif nilai >= 70:\n",
        "  print(\"grade B\")\n",
        "elif nilai >= 60:\n",
        "  print(\"grade C\")"
      ],
      "metadata": {
        "colab": {
          "base_uri": "https://localhost:8080/"
        },
        "id": "GIPlKUnMVMiI",
        "outputId": "dfc38785-959b-41a9-a2b5-fcc0c5882106"
      },
      "execution_count": 12,
      "outputs": [
        {
          "output_type": "stream",
          "name": "stdout",
          "text": [
            "grade C\n"
          ]
        }
      ]
    },
    {
      "cell_type": "code",
      "source": [
        "nilai = 51\n",
        "if nilai >= 90:\n",
        "  print(\"grade A\")\n",
        "elif nilai >= 70:\n",
        "  print(\"grade B\")\n",
        "elif nilai >= 60:\n",
        "  print(\"grade C\")\n",
        "else:\n",
        "  print(\"grade D\")"
      ],
      "metadata": {
        "colab": {
          "base_uri": "https://localhost:8080/"
        },
        "id": "KerZT8C7VioO",
        "outputId": "b85ad25d-060b-4012-9530-81d065758c74"
      },
      "execution_count": 14,
      "outputs": [
        {
          "output_type": "stream",
          "name": "stdout",
          "text": [
            "grade D\n"
          ]
        }
      ]
    },
    {
      "cell_type": "code",
      "source": [
        "umur = 38\n",
        "if umur >= 11:\n",
        "  print(\"tiket tersedia\")\n",
        "  if umur <= 20 or umur >= 60:\n",
        "    print(\"harga tiket 35.000\")\n",
        "  else:\n",
        "    print(\"harga tiket 50.000\")\n",
        "else:\n",
        "  print(\"tiket tidak tersedia\")"
      ],
      "metadata": {
        "colab": {
          "base_uri": "https://localhost:8080/"
        },
        "id": "-TwdpW8VVvl5",
        "outputId": "bed91540-e2b6-4f89-df3f-abd159858c18"
      },
      "execution_count": 17,
      "outputs": [
        {
          "output_type": "stream",
          "name": "stdout",
          "text": [
            "tiket tersedia\n",
            "harga tiket 50.000\n"
          ]
        }
      ]
    },
    {
      "cell_type": "code",
      "source": [
        "bilangan = int(input(\"Masukan Bilangan: \"))\n",
        "\n",
        "if bilangan < 0:\n",
        "  print(\"Bilangan Negatif\")\n",
        "elif bilangan ==0:\n",
        "  print(\"Bilangan Nol\")\n",
        "else:\n",
        "  print(\"Bilangan Positif\")"
      ],
      "metadata": {
        "colab": {
          "base_uri": "https://localhost:8080/"
        },
        "id": "lHVkY3jjWDdG",
        "outputId": "b75a6eb3-32b3-4c27-a7e3-6f3c39cf220d"
      },
      "execution_count": 19,
      "outputs": [
        {
          "output_type": "stream",
          "name": "stdout",
          "text": [
            "Masukan Bilangan: -21\n",
            "Bilangan Negatif\n"
          ]
        }
      ]
    },
    {
      "cell_type": "code",
      "source": [
        "x = int(input(\"Masukan bilangan X: \"))\n",
        "y = int(input(\"Masukan bilangan Y: \"))\n",
        "\n",
        "if x > y:\n",
        "  print(\"Bilangan terbesar adalah X: \", x)\n",
        "else:\n",
        "  print(\"Bilangan terbesar adalah Y: \", y)"
      ],
      "metadata": {
        "colab": {
          "base_uri": "https://localhost:8080/"
        },
        "id": "2Eej7GFJWdUL",
        "outputId": "cb6d9859-f312-42d3-dbce-a57beb02550a"
      },
      "execution_count": 20,
      "outputs": [
        {
          "output_type": "stream",
          "name": "stdout",
          "text": [
            "Masukan bilangan X: 20\n",
            "Masukan bilangan Y: 25\n",
            "Bilangan terbesar adalah Y:  25\n"
          ]
        }
      ]
    },
    {
      "cell_type": "code",
      "source": [],
      "metadata": {
        "id": "zWDttMGLW5sO"
      },
      "execution_count": null,
      "outputs": []
    }
  ]
}