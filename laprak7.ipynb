{
  "nbformat": 4,
  "nbformat_minor": 0,
  "metadata": {
    "colab": {
      "provenance": [],
      "authorship_tag": "ABX9TyOHHahP0Kn6ns8h/05RaMLv",
      "include_colab_link": true
    },
    "kernelspec": {
      "name": "python3",
      "display_name": "Python 3"
    },
    "language_info": {
      "name": "python"
    }
  },
  "cells": [
    {
      "cell_type": "markdown",
      "metadata": {
        "id": "view-in-github",
        "colab_type": "text"
      },
      "source": [
        "<a href=\"https://colab.research.google.com/github/agungibr/laporan-praktek/blob/main/laprak7.ipynb\" target=\"_parent\"><img src=\"https://colab.research.google.com/assets/colab-badge.svg\" alt=\"Open In Colab\"/></a>"
      ]
    },
    {
      "cell_type": "markdown",
      "source": [
        "buat list kosong"
      ],
      "metadata": {
        "id": "l6MDpvtycJq0"
      }
    },
    {
      "cell_type": "code",
      "execution_count": 3,
      "metadata": {
        "id": "Nou-baL-RyJ5"
      },
      "outputs": [],
      "source": [
        "nama_pegawai = []"
      ]
    },
    {
      "cell_type": "markdown",
      "source": [
        "tambah data"
      ],
      "metadata": {
        "id": "a9yGQrYXiC-U"
      }
    },
    {
      "cell_type": "code",
      "source": [
        "add = ['Akhdiyat Duta Modjo', 'Eros Candra', 'Adam Muhammad Subarkah', 'Saktia Ari Seno']\n",
        "nama_pegawai.extend(add)"
      ],
      "metadata": {
        "id": "67wOSeJbhry5"
      },
      "execution_count": 4,
      "outputs": []
    },
    {
      "cell_type": "markdown",
      "source": [
        "menampilkan isi data"
      ],
      "metadata": {
        "id": "T1PmK5MIcTlP"
      }
    },
    {
      "cell_type": "code",
      "source": [
        "print(nama_pegawai)"
      ],
      "metadata": {
        "colab": {
          "base_uri": "https://localhost:8080/"
        },
        "id": "hNI-b5ekSXMJ",
        "outputId": "e2979154-638e-4617-8f6b-71e2bb302dff"
      },
      "execution_count": 5,
      "outputs": [
        {
          "output_type": "stream",
          "name": "stdout",
          "text": [
            "['Akhdiyat Duta Modjo', 'Eros Candra', 'Adam Muhammad Subarkah', 'Saktia Ari Seno']\n"
          ]
        }
      ]
    },
    {
      "cell_type": "markdown",
      "source": [
        "Menghapus Eros Candra"
      ],
      "metadata": {
        "id": "0RMQWXKqcXMn"
      }
    },
    {
      "cell_type": "code",
      "source": [
        "nama_pegawai.pop(-3)"
      ],
      "metadata": {
        "colab": {
          "base_uri": "https://localhost:8080/",
          "height": 35
        },
        "id": "P_ikN7ERSdHh",
        "outputId": "7ae1c676-fbdb-4aba-c547-fc66a9d3ac3a"
      },
      "execution_count": 7,
      "outputs": [
        {
          "output_type": "execute_result",
          "data": {
            "text/plain": [
              "'Eros Candra'"
            ],
            "application/vnd.google.colaboratory.intrinsic+json": {
              "type": "string"
            }
          },
          "metadata": {},
          "execution_count": 7
        }
      ]
    },
    {
      "cell_type": "markdown",
      "source": [
        "Menampilkan data"
      ],
      "metadata": {
        "id": "2ivPzqIDcaeu"
      }
    },
    {
      "cell_type": "code",
      "source": [
        "print(nama_pegawai)"
      ],
      "metadata": {
        "colab": {
          "base_uri": "https://localhost:8080/"
        },
        "id": "m8tb4PzLVzR6",
        "outputId": "d633c294-0439-4663-9308-4a8dc7bb0070"
      },
      "execution_count": 8,
      "outputs": [
        {
          "output_type": "stream",
          "name": "stdout",
          "text": [
            "['Akhdiyat Duta Modjo', 'Adam Muhammad Subarkah', 'Saktia Ari Seno']\n"
          ]
        }
      ]
    },
    {
      "cell_type": "markdown",
      "source": [
        "Masukkan data Brian Kresna Putro dan Anton Widiastanto menggunakan fungsi input"
      ],
      "metadata": {
        "id": "w7coVyaGcdi8"
      }
    },
    {
      "cell_type": "code",
      "source": [
        "for i in range(2):\n",
        "  new_nama_pegawai = input(\"Masukan Data: \")\n",
        "  nama_pegawai.append(new_nama_pegawai)"
      ],
      "metadata": {
        "colab": {
          "base_uri": "https://localhost:8080/"
        },
        "id": "0LL2ZhXsV67a",
        "outputId": "8660116b-5033-477a-cfa2-4a90c0f0893c"
      },
      "execution_count": 9,
      "outputs": [
        {
          "name": "stdout",
          "output_type": "stream",
          "text": [
            "Masukan Data: Brian Kresna Putro\n",
            "Masukan Data: Anton Widiastanto\n"
          ]
        }
      ]
    },
    {
      "cell_type": "markdown",
      "source": [
        "Menampilkan data"
      ],
      "metadata": {
        "id": "a-oF2KYsco1f"
      }
    },
    {
      "cell_type": "code",
      "source": [
        "print(nama_pegawai)"
      ],
      "metadata": {
        "colab": {
          "base_uri": "https://localhost:8080/"
        },
        "id": "D6p0jW3hWRO3",
        "outputId": "e7975065-86cf-4fbb-e57c-8a2b700c8f4a"
      },
      "execution_count": 10,
      "outputs": [
        {
          "output_type": "stream",
          "name": "stdout",
          "text": [
            "['Akhdiyat Duta Modjo', 'Adam Muhammad Subarkah', 'Saktia Ari Seno', 'Brian Kresna Putro', 'Anton Widiastanto']\n"
          ]
        }
      ]
    },
    {
      "cell_type": "markdown",
      "source": [
        "update data"
      ],
      "metadata": {
        "id": "6xYRymRKcroR"
      }
    },
    {
      "cell_type": "code",
      "source": [
        "old = \"Anton Widiastanto\"\n",
        "new = \"Abdul Jaelani Ishaq\"\n",
        "\n",
        "for i in range(len(nama_pegawai)):\n",
        "  if nama_pegawai[i] == old:\n",
        "    nama_pegawai[i] = new"
      ],
      "metadata": {
        "id": "wzpqKPlMX4u7"
      },
      "execution_count": 11,
      "outputs": []
    },
    {
      "cell_type": "markdown",
      "source": [
        "Menampilkan data"
      ],
      "metadata": {
        "id": "uXoQvTlMcupB"
      }
    },
    {
      "cell_type": "code",
      "source": [
        "print(nama_pegawai)"
      ],
      "metadata": {
        "colab": {
          "base_uri": "https://localhost:8080/"
        },
        "id": "cLZBSWilYGxK",
        "outputId": "def1c94b-97be-47e7-cc5a-3d99441d9f15"
      },
      "execution_count": 12,
      "outputs": [
        {
          "output_type": "stream",
          "name": "stdout",
          "text": [
            "['Akhdiyat Duta Modjo', 'Adam Muhammad Subarkah', 'Saktia Ari Seno', 'Brian Kresna Putro', 'Abdul Jaelani Ishaq']\n"
          ]
        }
      ]
    },
    {
      "cell_type": "markdown",
      "source": [
        "remove data Saktia Ari Seno"
      ],
      "metadata": {
        "id": "RrQ9BZQjcwql"
      }
    },
    {
      "cell_type": "code",
      "source": [
        "nama_pegawai.remove('Saktia Ari Seno')"
      ],
      "metadata": {
        "id": "GA60PKZzaY1v"
      },
      "execution_count": 13,
      "outputs": []
    },
    {
      "cell_type": "markdown",
      "source": [
        "Menampilkan semua data menggunakan perulangan"
      ],
      "metadata": {
        "id": "1I92zGIuc23T"
      }
    },
    {
      "cell_type": "code",
      "source": [
        "for i in range(len(nama_pegawai)):\n",
        "  print(nama_pegawai)\n",
        "  break"
      ],
      "metadata": {
        "colab": {
          "base_uri": "https://localhost:8080/"
        },
        "id": "s2LFYm1DakK2",
        "outputId": "32bc7987-cf30-4615-ae2b-07244e7d5715"
      },
      "execution_count": 14,
      "outputs": [
        {
          "output_type": "stream",
          "name": "stdout",
          "text": [
            "['Akhdiyat Duta Modjo', 'Adam Muhammad Subarkah', 'Brian Kresna Putro', 'Abdul Jaelani Ishaq']\n"
          ]
        }
      ]
    }
  ]
}