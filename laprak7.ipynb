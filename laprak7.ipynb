{
  "nbformat": 4,
  "nbformat_minor": 0,
  "metadata": {
    "colab": {
      "provenance": [],
      "authorship_tag": "ABX9TyMfEduPvgWDtPQX/X5O5YqR",
      "include_colab_link": true
    },
    "kernelspec": {
      "name": "python3",
      "display_name": "Python 3"
    },
    "language_info": {
      "name": "python"
    }
  },
  "cells": [
    {
      "cell_type": "markdown",
      "metadata": {
        "id": "view-in-github",
        "colab_type": "text"
      },
      "source": [
        "<a href=\"https://colab.research.google.com/github/agungibr/laporan-praktek/blob/main/laprak7.ipynb\" target=\"_parent\"><img src=\"https://colab.research.google.com/assets/colab-badge.svg\" alt=\"Open In Colab\"/></a>"
      ]
    },
    {
      "cell_type": "markdown",
      "source": [
        "buat list lalu diisi data"
      ],
      "metadata": {
        "id": "l6MDpvtycJq0"
      }
    },
    {
      "cell_type": "code",
      "execution_count": 57,
      "metadata": {
        "id": "Nou-baL-RyJ5"
      },
      "outputs": [],
      "source": [
        "nama_pegawai = ['Akhdiyat Duta Modjo','Eros Candra','Adam Muhammad Subarkah','Saktia Ari Seno']"
      ]
    },
    {
      "cell_type": "markdown",
      "source": [
        "menampilkan isi data"
      ],
      "metadata": {
        "id": "T1PmK5MIcTlP"
      }
    },
    {
      "cell_type": "code",
      "source": [
        "print(nama_pegawai)"
      ],
      "metadata": {
        "colab": {
          "base_uri": "https://localhost:8080/"
        },
        "id": "hNI-b5ekSXMJ",
        "outputId": "80ff99c0-9a59-4e9c-f2d4-aa2345b2cce1"
      },
      "execution_count": 58,
      "outputs": [
        {
          "output_type": "stream",
          "name": "stdout",
          "text": [
            "['Akhdiyat Duta Modjo', 'Eros Candra', 'Adam Muhammad Subarkah', 'Saktia Ari Seno']\n"
          ]
        }
      ]
    },
    {
      "cell_type": "markdown",
      "source": [
        "Menghapus Eros Candra"
      ],
      "metadata": {
        "id": "0RMQWXKqcXMn"
      }
    },
    {
      "cell_type": "code",
      "source": [
        "nama_pegawai.pop(-3)"
      ],
      "metadata": {
        "colab": {
          "base_uri": "https://localhost:8080/",
          "height": 35
        },
        "id": "P_ikN7ERSdHh",
        "outputId": "2a38b41e-5d2b-4755-f875-6d8b7d1cc5bd"
      },
      "execution_count": 59,
      "outputs": [
        {
          "output_type": "execute_result",
          "data": {
            "text/plain": [
              "'Eros Candra'"
            ],
            "application/vnd.google.colaboratory.intrinsic+json": {
              "type": "string"
            }
          },
          "metadata": {},
          "execution_count": 59
        }
      ]
    },
    {
      "cell_type": "markdown",
      "source": [
        "Menampilkan data"
      ],
      "metadata": {
        "id": "2ivPzqIDcaeu"
      }
    },
    {
      "cell_type": "code",
      "source": [
        "print(nama_pegawai)"
      ],
      "metadata": {
        "colab": {
          "base_uri": "https://localhost:8080/"
        },
        "id": "m8tb4PzLVzR6",
        "outputId": "0f90b6af-bda7-48b1-87ed-dc527ec2ec7e"
      },
      "execution_count": 60,
      "outputs": [
        {
          "output_type": "stream",
          "name": "stdout",
          "text": [
            "['Akhdiyat Duta Modjo', 'Adam Muhammad Subarkah', 'Saktia Ari Seno']\n"
          ]
        }
      ]
    },
    {
      "cell_type": "markdown",
      "source": [
        "Masukkan data Brian Kresna Putro dan Anton Widiastanto menggunakan fungsi input"
      ],
      "metadata": {
        "id": "w7coVyaGcdi8"
      }
    },
    {
      "cell_type": "code",
      "source": [
        "for i in range(2):\n",
        "  new_nama_pegawai = input(\"Masukan Data: \")\n",
        "  nama_pegawai.append(new_nama_pegawai)"
      ],
      "metadata": {
        "colab": {
          "base_uri": "https://localhost:8080/"
        },
        "id": "0LL2ZhXsV67a",
        "outputId": "493b918c-de0b-4fb1-9b60-9acc1f17dc52"
      },
      "execution_count": 61,
      "outputs": [
        {
          "name": "stdout",
          "output_type": "stream",
          "text": [
            "Masukan Data: Brian Kresna Putro\n",
            "Masukan Data: Anton Widiastanto\n"
          ]
        }
      ]
    },
    {
      "cell_type": "markdown",
      "source": [
        "Menampilkan data"
      ],
      "metadata": {
        "id": "a-oF2KYsco1f"
      }
    },
    {
      "cell_type": "code",
      "source": [
        "print(nama_pegawai)"
      ],
      "metadata": {
        "colab": {
          "base_uri": "https://localhost:8080/"
        },
        "id": "D6p0jW3hWRO3",
        "outputId": "29233fa5-edcb-494b-9338-b69719fe150a"
      },
      "execution_count": 62,
      "outputs": [
        {
          "output_type": "stream",
          "name": "stdout",
          "text": [
            "['Akhdiyat Duta Modjo', 'Adam Muhammad Subarkah', 'Saktia Ari Seno', 'Brian Kresna Putro', 'Anton Widiastanto']\n"
          ]
        }
      ]
    },
    {
      "cell_type": "markdown",
      "source": [
        "update data"
      ],
      "metadata": {
        "id": "6xYRymRKcroR"
      }
    },
    {
      "cell_type": "code",
      "source": [
        "old = \"Anton Widiastanto\"\n",
        "new = \"Abdul Jaelani Ishaq\"\n",
        "\n",
        "for i in range(len(nama_pegawai)):\n",
        "  if nama_pegawai[i] == old:\n",
        "    nama_pegawai[i] = new"
      ],
      "metadata": {
        "id": "wzpqKPlMX4u7"
      },
      "execution_count": 63,
      "outputs": []
    },
    {
      "cell_type": "markdown",
      "source": [
        "Menampilkan data"
      ],
      "metadata": {
        "id": "uXoQvTlMcupB"
      }
    },
    {
      "cell_type": "code",
      "source": [
        "print(nama_pegawai)"
      ],
      "metadata": {
        "colab": {
          "base_uri": "https://localhost:8080/"
        },
        "id": "cLZBSWilYGxK",
        "outputId": "fa33ca33-9756-4e83-fb0c-a983ea07219d"
      },
      "execution_count": 64,
      "outputs": [
        {
          "output_type": "stream",
          "name": "stdout",
          "text": [
            "['Akhdiyat Duta Modjo', 'Adam Muhammad Subarkah', 'Saktia Ari Seno', 'Brian Kresna Putro', 'Abdul Jaelani Ishaq']\n"
          ]
        }
      ]
    },
    {
      "cell_type": "markdown",
      "source": [
        "remove data Saktia Ari Seno"
      ],
      "metadata": {
        "id": "RrQ9BZQjcwql"
      }
    },
    {
      "cell_type": "code",
      "source": [
        "nama_pegawai.remove('Saktia Ari Seno')"
      ],
      "metadata": {
        "id": "GA60PKZzaY1v"
      },
      "execution_count": 65,
      "outputs": []
    },
    {
      "cell_type": "markdown",
      "source": [
        "Menampilkan semua data menggunakan perulangan"
      ],
      "metadata": {
        "id": "1I92zGIuc23T"
      }
    },
    {
      "cell_type": "code",
      "source": [
        "for i in range(len(nama_pegawai)):\n",
        "  print(nama_pegawai)\n",
        "  break"
      ],
      "metadata": {
        "colab": {
          "base_uri": "https://localhost:8080/"
        },
        "id": "s2LFYm1DakK2",
        "outputId": "b7fc2bfb-e099-40da-82e2-a4c2be011bc5"
      },
      "execution_count": 66,
      "outputs": [
        {
          "output_type": "stream",
          "name": "stdout",
          "text": [
            "['Akhdiyat Duta Modjo', 'Adam Muhammad Subarkah', 'Brian Kresna Putro', 'Abdul Jaelani Ishaq']\n"
          ]
        }
      ]
    }
  ]
}