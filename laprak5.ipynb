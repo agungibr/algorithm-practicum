{
  "nbformat": 4,
  "nbformat_minor": 0,
  "metadata": {
    "colab": {
      "provenance": [],
      "authorship_tag": "ABX9TyMrEFhy9wTxyrqQx9oX95H3",
      "include_colab_link": true
    },
    "kernelspec": {
      "name": "python3",
      "display_name": "Python 3"
    },
    "language_info": {
      "name": "python"
    }
  },
  "cells": [
    {
      "cell_type": "markdown",
      "metadata": {
        "id": "view-in-github",
        "colab_type": "text"
      },
      "source": [
        "<a href=\"https://colab.research.google.com/github/agungibr/laporan-praktek/blob/main/laprak5.ipynb\" target=\"_parent\"><img src=\"https://colab.research.google.com/assets/colab-badge.svg\" alt=\"Open In Colab\"/></a>"
      ]
    },
    {
      "cell_type": "code",
      "execution_count": null,
      "metadata": {
        "colab": {
          "base_uri": "https://localhost:8080/"
        },
        "id": "W3wxEWZBXbFj",
        "outputId": "0d530fd9-53ad-4a0d-8412-b6562a1ff071"
      },
      "outputs": [
        {
          "output_type": "stream",
          "name": "stdout",
          "text": [
            "Masukan Nilai: 30\n",
            "Anda mendapatkan grade E\n"
          ]
        }
      ],
      "source": [
        "#If nested\n",
        "nilai = int(input(\"Masukan Nilai: \"))\n",
        "\n",
        "if nilai >= 90:\n",
        "  grade = \"A\"\n",
        "elif nilai >= 70:\n",
        "  if nilai < 90:\n",
        "    grade = \"B\"\n",
        "elif nilai >= 60:\n",
        "  if nilai < 70:\n",
        "    grade = \"C\"\n",
        "elif nilai >= 50:\n",
        "  if nilai < 60:\n",
        "    grade = \"D\"\n",
        "else:\n",
        "  grade = \"E\"\n",
        "\n",
        "print(\"Anda mendapatkan grade\", grade)"
      ]
    },
    {
      "cell_type": "code",
      "source": [
        "#fungsi and\n",
        "umur = int(input(\"Masukan umur: \"))\n",
        "\n",
        "if umur <= 5:\n",
        "  print(\"Anda adalah balita\")\n",
        "elif umur > 5 and umur <= 12:\n",
        "  print(\"Anda adalah anak-anak\")\n",
        "elif umur > 12 and umur < 18:\n",
        "  print(\"Anda adalah remaja\")\n",
        "else:\n",
        "  print(\"Anda adalah orang dewasa\")"
      ],
      "metadata": {
        "id": "OkLbNuo7eyz_",
        "colab": {
          "base_uri": "https://localhost:8080/"
        },
        "outputId": "b1056fa6-b15f-4a4b-ddc2-fecd0a7f2692"
      },
      "execution_count": null,
      "outputs": [
        {
          "output_type": "stream",
          "name": "stdout",
          "text": [
            "Masukan umur: 90\n",
            "Anda adalah orang dewasa\n"
          ]
        }
      ]
    }
  ]
}