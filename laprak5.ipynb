{
  "nbformat": 4,
  "nbformat_minor": 0,
  "metadata": {
    "colab": {
      "provenance": [],
      "authorship_tag": "ABX9TyOZt+07UTlcfEYeBy1rPU10",
      "include_colab_link": true
    },
    "kernelspec": {
      "name": "python3",
      "display_name": "Python 3"
    },
    "language_info": {
      "name": "python"
    }
  },
  "cells": [
    {
      "cell_type": "markdown",
      "metadata": {
        "id": "view-in-github",
        "colab_type": "text"
      },
      "source": [
        "<a href=\"https://colab.research.google.com/github/agungibr/laporan-praktek/blob/main/laprak5.ipynb\" target=\"_parent\"><img src=\"https://colab.research.google.com/assets/colab-badge.svg\" alt=\"Open In Colab\"/></a>"
      ]
    },
    {
      "cell_type": "code",
      "execution_count": null,
      "metadata": {
        "colab": {
          "base_uri": "https://localhost:8080/"
        },
        "id": "W3wxEWZBXbFj",
        "outputId": "bdb1a12b-198b-458c-fa5c-023aa3182fc5"
      },
      "outputs": [
        {
          "output_type": "stream",
          "name": "stdout",
          "text": [
            "Masukan Nilai: 30\n",
            "Anda mendapatkan grade E\n"
          ]
        }
      ],
      "source": [
        "nilai = int(input(\"Masukan Nilai: \"))\n",
        "\n",
        "if nilai >= 90:\n",
        "  print(\"Anda mendapatkan grade A\")\n",
        "elif nilai >= 70:\n",
        "  if nilai < 90:\n",
        "    print(\"Anda mendapatkan grade B\")\n",
        "elif nilai >= 60:\n",
        "  if nilai < 70:\n",
        "    print(\"Anda mendapatkan grade C\")\n",
        "elif nilai >= 50:\n",
        "  if nilai < 60:\n",
        "    print(\"Anda mendapatkan grade D\")\n",
        "else:\n",
        "  print(\"Anda mendapatkan grade E\")"
      ]
    },
    {
      "cell_type": "code",
      "source": [
        "umur = int(input(\"Masukan umur: \"))\n",
        "\n",
        "if umur <= 5:\n",
        "  print(\"Anda adalah balita\")\n",
        "elif umur > 5 and umur <= 12:\n",
        "  print(\"Anda adalah anak-anak\")\n",
        "elif umur > 12 and umur < 18:\n",
        "  print(\"Anda adalah remaja\")\n",
        "else:\n",
        "  print(\"Anda adalah orang dewasa\")"
      ],
      "metadata": {
        "id": "OkLbNuo7eyz_",
        "colab": {
          "base_uri": "https://localhost:8080/"
        },
        "outputId": "35e97ff6-5524-4012-f77a-9cae0941676e"
      },
      "execution_count": 12,
      "outputs": [
        {
          "output_type": "stream",
          "name": "stdout",
          "text": [
            "Masukan umur: 13\n",
            "Anda adalah remaja\n"
          ]
        }
      ]
    }
  ]
}