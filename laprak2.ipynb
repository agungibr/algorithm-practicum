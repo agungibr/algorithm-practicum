{
  "nbformat": 4,
  "nbformat_minor": 0,
  "metadata": {
    "colab": {
      "provenance": [],
      "authorship_tag": "ABX9TyMAHd2xVkgc9033NVZczZ+4",
      "include_colab_link": true
    },
    "kernelspec": {
      "name": "python3",
      "display_name": "Python 3"
    },
    "language_info": {
      "name": "python"
    }
  },
  "cells": [
    {
      "cell_type": "markdown",
      "metadata": {
        "id": "view-in-github",
        "colab_type": "text"
      },
      "source": [
        "<a href=\"https://colab.research.google.com/github/agungibr/laporan-praktek/blob/main/laprak2.ipynb\" target=\"_parent\"><img src=\"https://colab.research.google.com/assets/colab-badge.svg\" alt=\"Open In Colab\"/></a>"
      ]
    },
    {
      "cell_type": "code",
      "execution_count": null,
      "metadata": {
        "id": "M1TsA4e-cYSf",
        "outputId": "14c2e655-4b9a-4cd6-b81e-4179bef88d65",
        "colab": {
          "base_uri": "https://localhost:8080/"
        }
      },
      "outputs": [
        {
          "output_type": "stream",
          "name": "stdout",
          "text": [
            "    *    \n",
            "   * *   \n",
            "  *   *  \n",
            " *     *   \n",
            "***   ***\n",
            "  *   *  \n",
            "  *   *  \n",
            "  *****\n"
          ]
        }
      ],
      "source": [
        "print(\"    *    \")\n",
        "print(\"   * *   \")\n",
        "print(\"  *   *  \")\n",
        "print(\" *     *   \")\n",
        "print(\"***   ***\")\n",
        "print(\"  *   *  \")\n",
        "print(\"  *   *  \")\n",
        "print(\"  *****\")"
      ]
    },
    {
      "cell_type": "code",
      "source": [
        "#Rupiah ke Dollar\n",
        "\n",
        "#casting integer\n",
        "#input\n",
        "rp = int(input(\"Masukkan nilai rupiah: \"))\n",
        "rp = float(rp)\n",
        "kurs = 15000\n",
        "usd = rp / kurs\n",
        "\n",
        "#output\n",
        "print(\"Jumlah dalam dollar: $\", usd)\n"
      ],
      "metadata": {
        "colab": {
          "base_uri": "https://localhost:8080/"
        },
        "id": "m_jrYkZDpkC3",
        "outputId": "1fcb197b-ac7d-4c8f-f4f9-6febce100f66"
      },
      "execution_count": null,
      "outputs": [
        {
          "output_type": "stream",
          "name": "stdout",
          "text": [
            "Masukkan nilai rupiah: 45000\n",
            "Jumlah dalam dolar: $ 3.0\n"
          ]
        }
      ]
    },
    {
      "cell_type": "code",
      "source": [
        "#input\n",
        "#casting\n",
        "nama = str(input(\"Masukan Nama : \"))\n",
        "nim = int(input(\"Masukan NIM : \"))\n",
        "alamat = str(input(\"Masukan Alamat : \"))\n",
        "tgl = str(input(\"Masukan Tanggal Lahir : \"))\n",
        "jnsk = str(input(\"Masukan Jenis Kelamin : \"))\n",
        "umur = str(input(\"Masukan Umur : \"))\n",
        "bb = str(input(\"Masukan Berat Badan : \"))\n",
        "tb = str(input(\"Masukan Tinggi Badan : \"))\n",
        "hp = int(input(\"Masukan Nomor HP : \"))\n",
        "\n",
        "#output\n",
        "print(\"=======BIODATA=======\")\n",
        "print(\"Nama :\", nama)\n",
        "print(\"NIM :\", nim)\n",
        "print(\"Alamat :\", alamat)\n",
        "print(\"Tanggal lahir :\", tgl)\n",
        "print(\"Jenis kelamin :\", jnsk)\n",
        "print(\"Umur :\", umur)\n",
        "print(\"Berat badan :\", bb)\n",
        "print(\"Tinggi badan :\", tb)\n",
        "print(\"Nomor HP :\", hp)"
      ],
      "metadata": {
        "colab": {
          "base_uri": "https://localhost:8080/"
        },
        "id": "ha967x6vqpFr",
        "outputId": "9e70d600-2ec9-40dd-e826-55fadac0ef11"
      },
      "execution_count": null,
      "outputs": [
        {
          "output_type": "stream",
          "name": "stdout",
          "text": [
            "Masukan Nama : agung\n",
            "Masukan NIM : 2311110067\n",
            "Masukan Alamat : larangan\n",
            "Masukan Tanggal Lahir : 24 desember 2004\n",
            "Masukan Jenis Kelamin : laki laki\n",
            "Masukan Umur : 18 tahun\n",
            "Masukan Berat Badan : 51 kg\n",
            "Masukan Tinggi Badan : 175 cm\n",
            "Masukan Nomor HP : 081234556789\n",
            "=======BIODATA=======\n",
            "Nama : agung\n",
            "NIM : 2311110067\n",
            "Alamat : larangan\n",
            "Tanggal lahir : 24 desember 2004\n",
            "Jenis kelamin : laki laki\n",
            "Umur : 18 tahun\n",
            "Berat badan : 51 kg\n",
            "Tinggi badan : 175 cm\n",
            "Nomor HP : 81234556789\n"
          ]
        }
      ]
    }
  ]
}