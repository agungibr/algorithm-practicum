{
  "nbformat": 4,
  "nbformat_minor": 0,
  "metadata": {
    "colab": {
      "provenance": [],
      "authorship_tag": "ABX9TyPP1aMATELbx7a/vEQiPneO",
      "include_colab_link": true
    },
    "kernelspec": {
      "name": "python3",
      "display_name": "Python 3"
    },
    "language_info": {
      "name": "python"
    }
  },
  "cells": [
    {
      "cell_type": "markdown",
      "metadata": {
        "id": "view-in-github",
        "colab_type": "text"
      },
      "source": [
        "<a href=\"https://colab.research.google.com/github/agungibr/algorithm-practicum/blob/main/laprak2.ipynb\" target=\"_parent\"><img src=\"https://colab.research.google.com/assets/colab-badge.svg\" alt=\"Open In Colab\"/></a>"
      ]
    },
    {
      "cell_type": "code",
      "execution_count": 1,
      "metadata": {
        "colab": {
          "base_uri": "https://localhost:8080/"
        },
        "id": "DvLGZw1gVHug",
        "outputId": "e45f03a9-7fc8-4df6-f577-663244f7a261"
      },
      "outputs": [
        {
          "output_type": "stream",
          "name": "stdout",
          "text": [
            "    *    \n",
            "   * *   \n",
            "  *   *  \n",
            " *     *   \n",
            "***   ***\n",
            "  *   *  \n",
            "  *   *  \n",
            "  *****\n"
          ]
        }
      ],
      "source": [
        "print(\"    *    \")\n",
        "print(\"   * *   \")\n",
        "print(\"  *   *  \")\n",
        "print(\" *     *   \")\n",
        "print(\"***   ***\")\n",
        "print(\"  *   *  \")\n",
        "print(\"  *   *  \")\n",
        "print(\"  *****\")"
      ]
    },
    {
      "cell_type": "code",
      "source": [
        "#Rupiah ke Dollar\n",
        "\n",
        "#casting integer\n",
        "#input\n",
        "rp = int(input(\"Masukkan nilai rupiah: \"))\n",
        "rp = float(rp)\n",
        "kurs = 15000\n",
        "usd = rp / kurs\n",
        "\n",
        "#output\n",
        "print(\"Jumlah dalam dollar: $\", usd)"
      ],
      "metadata": {
        "colab": {
          "base_uri": "https://localhost:8080/"
        },
        "id": "HQOikWQVVo_L",
        "outputId": "026d11bf-4674-4137-c766-3e689aeb5895"
      },
      "execution_count": 2,
      "outputs": [
        {
          "output_type": "stream",
          "name": "stdout",
          "text": [
            "Masukkan nilai rupiah: 45000\n",
            "Jumlah dalam dollar: $ 3.0\n"
          ]
        }
      ]
    },
    {
      "cell_type": "code",
      "source": [
        "#input\n",
        "#casting\n",
        "nama = str(input(\"Masukan Nama : \"))\n",
        "nim = int(input(\"Masukan NIM : \"))\n",
        "alamat = str(input(\"Masukan Alamat : \"))\n",
        "tgl = str(input(\"Masukan Tanggal Lahir : \"))\n",
        "jnsk = str(input(\"Masukan Jenis Kelamin : \"))\n",
        "umur = str(input(\"Masukan Umur : \"))\n",
        "bb = str(input(\"Masukan Berat Badan : \"))\n",
        "tb = str(input(\"Masukan Tinggi Badan : \"))\n",
        "hp = int(input(\"Masukan Nomor HP : \"))\n",
        "\n",
        "#output\n",
        "print(\"=======BIODATA=======\")\n",
        "print(\"Nama :\", nama)\n",
        "print(\"NIM :\", nim)\n",
        "print(\"Alamat :\", alamat)\n",
        "print(\"Tanggal lahir :\", tgl)\n",
        "print(\"Jenis kelamin :\", jnsk)\n",
        "print(\"Umur :\", umur)\n",
        "print(\"Berat badan :\", bb)\n",
        "print(\"Tinggi badan :\", tb)\n",
        "print(\"Nomor HP :\", hp)"
      ],
      "metadata": {
        "colab": {
          "base_uri": "https://localhost:8080/"
        },
        "id": "Oxd3B3CjWFAe",
        "outputId": "5de1d4a8-047e-47db-db81-315d487512ec"
      },
      "execution_count": 3,
      "outputs": [
        {
          "output_type": "stream",
          "name": "stdout",
          "text": [
            "Masukan Nama : Eugene Horald Krabs\n",
            "Masukan NIM : 123456789\n",
            "Masukan Alamat : 3541 Anchor Way, Bikini Bottom ,Samudera Pasifik\n",
            "Masukan Tanggal Lahir : 30 November 1942\n",
            "Masukan Jenis Kelamin : Laki-laki\n",
            "Masukan Umur : 82\n",
            "Masukan Berat Badan : 100 kg\n",
            "Masukan Tinggi Badan : 150 cm\n",
            "Masukan Nomor HP : 08123456789\n",
            "=======BIODATA=======\n",
            "Nama : Eugene Horald Krabs\n",
            "NIM : 123456789\n",
            "Alamat : 3541 Anchor Way, Bikini Bottom ,Samudera Pasifik\n",
            "Tanggal lahir : 30 November 1942\n",
            "Jenis kelamin : Laki-laki\n",
            "Umur : 82\n",
            "Berat badan : 100 kg\n",
            "Tinggi badan : 150 cm\n",
            "Nomor HP : 8123456789\n"
          ]
        }
      ]
    }
  ]
}