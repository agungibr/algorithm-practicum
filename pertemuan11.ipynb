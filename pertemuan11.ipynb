{
  "nbformat": 4,
  "nbformat_minor": 0,
  "metadata": {
    "colab": {
      "provenance": [],
      "authorship_tag": "ABX9TyMxDGxPkjACt2ERdfQNpN5d",
      "include_colab_link": true
    },
    "kernelspec": {
      "name": "python3",
      "display_name": "Python 3"
    },
    "language_info": {
      "name": "python"
    }
  },
  "cells": [
    {
      "cell_type": "markdown",
      "metadata": {
        "id": "view-in-github",
        "colab_type": "text"
      },
      "source": [
        "<a href=\"https://colab.research.google.com/github/agungibr/algorithm-practicum/blob/main/pertemuan11.ipynb\" target=\"_parent\"><img src=\"https://colab.research.google.com/assets/colab-badge.svg\" alt=\"Open In Colab\"/></a>"
      ]
    },
    {
      "cell_type": "code",
      "execution_count": 1,
      "metadata": {
        "colab": {
          "base_uri": "https://localhost:8080/"
        },
        "id": "lZeu-qDDqPhz",
        "outputId": "f8ccc78c-8e9b-4496-ab06-622eb7880599"
      },
      "outputs": [
        {
          "output_type": "stream",
          "name": "stdout",
          "text": [
            "Masukkan Angka Yang Anda Cari : 20\n",
            "Found The Search Number.  4\n"
          ]
        }
      ],
      "source": [
        "myList = [1,5,10,15,20,25,30,2,6,8,9] #Example list\n",
        "cari = int(input(\"Masukkan Angka Yang Anda Cari : \")) #angka yang ingin dicari\n",
        "\n",
        "counter = 0\n",
        "while counter != len(myList):\n",
        "    if myList[counter] == cari:\n",
        "        print(\"Found The Search Number. \",counter)\n",
        "    counter += 1\n",
        "if cari not in myList:\n",
        "    print(\"Number Not Found !!!\")"
      ]
    },
    {
      "cell_type": "code",
      "source": [
        "myList = [1,5,10,15,20,25,30,2,6,8,9] #Example list\n",
        "cari = int(input(\"Masukkan Angka Yang Anda Cari : \")) #angka yang ingin dicari\n",
        "\n",
        "#fungsi\n",
        "def searchNumber(List, search):\n",
        "  counter = 0\n",
        "  while counter != len(myList):\n",
        "    if myList[counter] == search:\n",
        "        result = counter\n",
        "    counter += 1\n",
        "  return -1\n",
        "\n",
        "#pemanggilan fungsi\n",
        "hasil = searchNumber(myList,cari)\n",
        "\n",
        "if hasil != -1:\n",
        "    print('Number %s in index %s'% (cari, hasil))\n",
        "else:\n",
        "    print(\"Number Not Found !!!\")"
      ],
      "metadata": {
        "colab": {
          "base_uri": "https://localhost:8080/"
        },
        "id": "SnjN04Eusu7a",
        "outputId": "1ce9a0f2-2a8a-480e-fd82-3a6125e79faa"
      },
      "execution_count": 7,
      "outputs": [
        {
          "output_type": "stream",
          "name": "stdout",
          "text": [
            "Masukkan Angka Yang Anda Cari : 2\n",
            "Number Not Found !!!\n"
          ]
        }
      ]
    },
    {
      "cell_type": "code",
      "source": [
        "yourList = [2,4,9,8,1,3,5,6,3] #example list\n",
        "yourNumber = int(input('Insert Number to Search ? ')) #angka yang ingin dicari\n",
        "firstIndex = 0 #index pertama\n",
        "lastIndex = len(yourList)-1 #index terakhir\n",
        "foundNumber = False #Untuk memberikan kondisi adanya angka\n",
        "yourList.sort() #binary seacrh harus diurutkan\n",
        "\n",
        "while firstIndex <= lastIndex and not foundNumber:\n",
        "  middleIndex = (firstIndex + lastIndex) // 2 #mencari index tengah\n",
        "  if yourList[middleIndex] == yourNumber:\n",
        "      foundNumber = True\n",
        "  else:\n",
        "      if yourNumber < yourList[middleIndex]:\n",
        "          lastIndex = middleIndex - 1\n",
        "      else:\n",
        "          firstIndex = middleIndex + 1\n",
        "\n",
        "if foundNumber:\n",
        "    print('Number %s is Found in List'% yourNumber)\n",
        "else:\n",
        "    print('Number %s is Found in List'% yourNumber)"
      ],
      "metadata": {
        "colab": {
          "base_uri": "https://localhost:8080/"
        },
        "id": "OCDtFbbvtjEH",
        "outputId": "15cbba52-3831-46e5-e881-30ede7bb8f1f"
      },
      "execution_count": 6,
      "outputs": [
        {
          "output_type": "stream",
          "name": "stdout",
          "text": [
            "Insert Number to Search ? 2\n",
            "Number 2 is Found in List\n"
          ]
        }
      ]
    },
    {
      "cell_type": "code",
      "source": [
        "yourList = [2,4,9,8,1,3,5,6,3] #example list\n",
        "yourNumber = int(input('Insert Number to Search ? ')) #angka yang ingin dicari\n",
        "\n",
        "#Fungsi\n",
        "def searchNumber(Number, List):\n",
        "  found = False #untuk memberikan kondisi adanya angka\n",
        "  List.sort() #binary search harus diurutkan\n",
        "  firstIndex = 0 #index pertama\n",
        "  lastIndex = len(List)-1 #index terakhir\n",
        "\n",
        "  while firstIndex <= lastIndex and not found:\n",
        "      middleIndex = (firstIndex + lastIndex) // 2\n",
        "      if List[middleIndex] == Number:\n",
        "          found = True\n",
        "      else:\n",
        "          if Number < List[middleIndex]:\n",
        "              lastIndex = middleIndex - 1\n",
        "          else:\n",
        "              firstIndex = middleIndex + 1\n",
        "  return found\n",
        "\n",
        "#Pemanggilan fungsi ditandai dengan pemanggilan naam fungsi\n",
        "result = searchNumber(yourNumber, yourList)\n",
        "if result:\n",
        "    print('Number %s is Found in List'% yourNumber)\n",
        "else:\n",
        "    print('Number %s is not Found in List'% yourNumber)"
      ],
      "metadata": {
        "colab": {
          "base_uri": "https://localhost:8080/"
        },
        "id": "q0e8sR8XvEws",
        "outputId": "dd065e1d-1c8a-408c-f768-7a6e01b81dd2"
      },
      "execution_count": 8,
      "outputs": [
        {
          "output_type": "stream",
          "name": "stdout",
          "text": [
            "Insert Number to Search ? 12\n",
            "Number 12 is not Found in List\n"
          ]
        }
      ]
    }
  ]
}