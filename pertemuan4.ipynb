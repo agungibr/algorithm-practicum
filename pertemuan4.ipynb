{
  "nbformat": 4,
  "nbformat_minor": 0,
  "metadata": {
    "colab": {
      "provenance": [],
      "authorship_tag": "ABX9TyM0PL3oGsOpZuCZMmlz3fJK",
      "include_colab_link": true
    },
    "kernelspec": {
      "name": "python3",
      "display_name": "Python 3"
    },
    "language_info": {
      "name": "python"
    }
  },
  "cells": [
    {
      "cell_type": "markdown",
      "metadata": {
        "id": "view-in-github",
        "colab_type": "text"
      },
      "source": [
        "<a href=\"https://colab.research.google.com/github/agungibr/laporan-praktek/blob/main/pertemuan4.ipynb\" target=\"_parent\"><img src=\"https://colab.research.google.com/assets/colab-badge.svg\" alt=\"Open In Colab\"/></a>"
      ]
    },
    {
      "cell_type": "code",
      "execution_count": 1,
      "metadata": {
        "colab": {
          "base_uri": "https://localhost:8080/"
        },
        "id": "zJ3jJHtMYVTo",
        "outputId": "e6239731-db84-4054-81b9-cc99b600dd34"
      },
      "outputs": [
        {
          "output_type": "stream",
          "name": "stdout",
          "text": [
            "x + y : 11\n",
            "x - y : 7\n",
            "x * y : 18\n",
            "x / y : 4.5\n",
            "x // y : 4\n",
            "x % y : 1\n",
            "x ** y : 81\n"
          ]
        }
      ],
      "source": [
        "#Operator Aritmatika\n",
        "\n",
        "x = 9\n",
        "y = 2\n",
        "\n",
        "print(\"x + y :\", x+y) #zzPenjumlahan\n",
        "print(\"x - y :\", x-y) #Pengurangan\n",
        "print(\"x * y :\", x*y) #Perkalian\n",
        "print(\"x / y :\", x/y) #Pembagian (Menghasilkan bilangan pecahan)\n",
        "print(\"x // y :\", x//y) #Pembagian (Menghasilkan bilangan bulat\n",
        "print(\"x % y :\", x%y) #Modulus (Sisa Pembagian)\n",
        "print(\"x ** y :\", x**y) #Perpangkatan"
      ]
    },
    {
      "cell_type": "code",
      "source": [
        "#Operator Perbandingan\n",
        "\n",
        "x = 5\n",
        "y = 4\n",
        "\n",
        "print(\"x > y :\", x>y) #zzPenjumlahan\n",
        "print(\"x < y :\", x<y) #zzPenjumlahan\n",
        "print(\"x == y :\", x==y) #zzPenjumlahan\n",
        "print(\"x != y :\", x!=y) #zzPenjumlahan\n",
        "print(\"x >= y :\", x>=y) #zzPenjumlahan\n",
        "print(\"x <= y :\", x<=y) #zzPenjumlahan"
      ],
      "metadata": {
        "colab": {
          "base_uri": "https://localhost:8080/"
        },
        "id": "9a2YgS_gYc0n",
        "outputId": "1d7e7b21-b8c9-4f41-89ce-f713af52246b"
      },
      "execution_count": 2,
      "outputs": [
        {
          "output_type": "stream",
          "name": "stdout",
          "text": [
            "x > y : True\n",
            "x < y : False\n",
            "x == y : False\n",
            "x != y : True\n",
            "x >= y : True\n",
            "x <= y : False\n"
          ]
        }
      ]
    },
    {
      "cell_type": "code",
      "source": [
        "#Menginputkan nilai 8 di a\n",
        "a = 8"
      ],
      "metadata": {
        "id": "q-Nop2JDYvvQ"
      },
      "execution_count": 3,
      "outputs": []
    },
    {
      "cell_type": "code",
      "source": [
        "#Menambahkan dengan 2\n",
        "a += 2\n",
        "\n",
        "#Menampilkan hasil nilai a ditambah dengan 2\n",
        "print(a)"
      ],
      "metadata": {
        "colab": {
          "base_uri": "https://localhost:8080/"
        },
        "id": "dLTbJNHEY2UK",
        "outputId": "a173f6bc-0166-479c-e7d2-eed8872fdd2a"
      },
      "execution_count": 4,
      "outputs": [
        {
          "output_type": "stream",
          "name": "stdout",
          "text": [
            "10\n"
          ]
        }
      ]
    },
    {
      "cell_type": "code",
      "source": [
        "#Mengurangi dengan 3\n",
        "a -= 3\n",
        "\n",
        "#Menampilkan hasil nilai a dikurangi dengan 3\n",
        "print(a)"
      ],
      "metadata": {
        "colab": {
          "base_uri": "https://localhost:8080/"
        },
        "id": "JpJfnAvOY_nT",
        "outputId": "9910615e-47c0-42b9-f882-901128cca115"
      },
      "execution_count": 5,
      "outputs": [
        {
          "output_type": "stream",
          "name": "stdout",
          "text": [
            "7\n"
          ]
        }
      ]
    },
    {
      "cell_type": "code",
      "source": [
        "#kali 10\n",
        "a *= 10\n",
        "\n",
        "#Menampilkan hasil nilai a dibagi dengan 4\n",
        "print(a)"
      ],
      "metadata": {
        "colab": {
          "base_uri": "https://localhost:8080/"
        },
        "id": "6hMDaRBcZI7b",
        "outputId": "0e934140-f853-4165-980e-c8df68fd3591"
      },
      "execution_count": 6,
      "outputs": [
        {
          "output_type": "stream",
          "name": "stdout",
          "text": [
            "70\n"
          ]
        }
      ]
    },
    {
      "cell_type": "code",
      "source": [
        "#Membagi dengan 4\n",
        "a /= 4\n",
        "\n",
        "#Menampilkan hasil nilai a dibagi dengan 4\n",
        "print(a)"
      ],
      "metadata": {
        "colab": {
          "base_uri": "https://localhost:8080/"
        },
        "id": "6ELXlNDxZSem",
        "outputId": "6d7a0671-6895-4087-d723-fe8f161ceeeb"
      },
      "execution_count": 7,
      "outputs": [
        {
          "output_type": "stream",
          "name": "stdout",
          "text": [
            "17.5\n"
          ]
        }
      ]
    },
    {
      "cell_type": "code",
      "source": [
        "#Memangkatkan 2\n",
        "a **= 2\n",
        "\n",
        "#Menampilkan hasil nilai a dipangkatkan dengan 2\n",
        "print(a)"
      ],
      "metadata": {
        "colab": {
          "base_uri": "https://localhost:8080/"
        },
        "id": "YpJ8JGSQZbHq",
        "outputId": "5c424f81-4def-4bda-d961-d8760ea30b6e"
      },
      "execution_count": 8,
      "outputs": [
        {
          "output_type": "stream",
          "name": "stdout",
          "text": [
            "306.25\n"
          ]
        }
      ]
    },
    {
      "cell_type": "code",
      "source": [
        "#Berapakah nilai a sekarang?\n",
        "print(\"Nilai a adalah :\", a)"
      ],
      "metadata": {
        "colab": {
          "base_uri": "https://localhost:8080/"
        },
        "id": "MRn27S7aZjYc",
        "outputId": "6528b9e4-3088-4a82-cd68-f61f9c6b41dd"
      },
      "execution_count": 9,
      "outputs": [
        {
          "output_type": "stream",
          "name": "stdout",
          "text": [
            "Nilai a adalah : 306.25\n"
          ]
        }
      ]
    },
    {
      "cell_type": "code",
      "source": [
        "#Operator Logika\n",
        "\n",
        "x = True\n",
        "y = False\n",
        "\n",
        "#logika and\n",
        "z = x and y\n",
        "print(\"True and False :\", z)\n",
        "\n",
        "#Logika or\n",
        "z = x or y\n",
        "print(\"True and False :\", z)\n",
        "\n",
        "#Logika not\n",
        "z = not x\n",
        "print(\"Not True   :\", z)"
      ],
      "metadata": {
        "colab": {
          "base_uri": "https://localhost:8080/"
        },
        "id": "8aJmtZkrZp_M",
        "outputId": "248c018e-6b18-49c2-a057-16daa61540f4"
      },
      "execution_count": 10,
      "outputs": [
        {
          "output_type": "stream",
          "name": "stdout",
          "text": [
            "True and False : False\n",
            "True and False : True\n",
            "Not True   : False\n"
          ]
        }
      ]
    },
    {
      "cell_type": "code",
      "source": [
        "#Operator Keanggotaaan\n",
        "\n",
        "#Operator in\n",
        "x = [1,5,9]\n",
        "y = 5\n",
        "print(\"y in x  :\", y in x)\n",
        "\n",
        "#Operator not in\n",
        "x = [1,5,9]\n",
        "y = 5\n",
        "print(\"y not in :\", y not in x)"
      ],
      "metadata": {
        "colab": {
          "base_uri": "https://localhost:8080/"
        },
        "id": "4LD3rq_caKig",
        "outputId": "d338c8ec-9b3a-45c3-c8fa-2b5f6ab98bd3"
      },
      "execution_count": 11,
      "outputs": [
        {
          "output_type": "stream",
          "name": "stdout",
          "text": [
            "y in x  : True\n",
            "y not in : False\n"
          ]
        }
      ]
    },
    {
      "cell_type": "code",
      "source": [
        "#operator Indentitas\n",
        "\n",
        "#Operator is\n",
        "x = 4\n",
        "y = x\n",
        "print(\"y adalah x :\", y is x)\n",
        "\n",
        "#Operator is not\n",
        "a = 10\n",
        "b = 4\n",
        "print(\"b is not a :\", b is not a)"
      ],
      "metadata": {
        "id": "b-1fE6d9ahRL"
      },
      "execution_count": null,
      "outputs": []
    }
  ]
}