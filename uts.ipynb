{
  "nbformat": 4,
  "nbformat_minor": 0,
  "metadata": {
    "colab": {
      "provenance": [],
      "authorship_tag": "ABX9TyNuR4sJmTfSVPhsYvjUpkom",
      "include_colab_link": true
    },
    "kernelspec": {
      "name": "python3",
      "display_name": "Python 3"
    },
    "language_info": {
      "name": "python"
    }
  },
  "cells": [
    {
      "cell_type": "markdown",
      "metadata": {
        "id": "view-in-github",
        "colab_type": "text"
      },
      "source": [
        "<a href=\"https://colab.research.google.com/github/agungibr/laporan-praktek/blob/main/uts.ipynb\" target=\"_parent\"><img src=\"https://colab.research.google.com/assets/colab-badge.svg\" alt=\"Open In Colab\"/></a>"
      ]
    },
    {
      "cell_type": "code",
      "execution_count": 37,
      "metadata": {
        "colab": {
          "base_uri": "https://localhost:8080/"
        },
        "id": "xrb3YuQYUrGB",
        "outputId": "ad128672-60b7-4d68-f1d8-0c23b279f504"
      },
      "outputs": [
        {
          "output_type": "stream",
          "name": "stdout",
          "text": [
            "==========Program Harga Baju SWALAYAN BAHAGIA==========\n",
            "Masukan harga baju : 180000\n",
            "Selamat, anda mendapatkan diskon 50% yang berkategori luxury\n"
          ]
        }
      ],
      "source": [
        "print(\"==========Program Harga Baju SWALAYAN BAHAGIA==========\")\n",
        "\n",
        "harga = float(input(\"Masukan harga baju : \"))\n",
        "\n",
        "if harga >= 20000 and harga <=70000:\n",
        "  print(\"Selamat, anda mendapatkan diskon 10% yang berkategori sangat murah\")\n",
        "\n",
        "elif harga >= 71000 and harga <=100000:\n",
        "  print(\"Selamat, anda mendapatkan diskon 20% yang berkategori murah\")\n",
        "\n",
        "elif harga >= 101000 and harga <=125000:\n",
        "  print(\"Selamat, anda mendapatkan diskon 30% yang berkategori standart\")\n",
        "\n",
        "elif harga >= 126000 and harga <=175000:\n",
        "  print(\"Selamat, anda mendapatkan diskon 40% yang berkategori mahal\")\n",
        "\n",
        "elif harga >= 176000 and harga <=500000:\n",
        "  print(\"Selamat, anda mendapatkan diskon 50% yang berkategori luxury\")\n",
        "\n",
        "else :\n",
        "   print(\"Mohon maaf, anda tidak mendapatkan diskon\")"
      ]
    },
    {
      "cell_type": "code",
      "source": [
        "print(\"==========Program Harga Baju SWALAYAN BAHAGIA==========\")\n",
        "\n",
        "baju = int(input(\"Masukan kode baju : \"))\n",
        "\n",
        "if baju == 1:\n",
        "  harga = '45.000'\n",
        "  print(\"Baju 1 mempunyai harga Rp.\", harga)\n",
        "elif baju == 2:\n",
        "  harga = '105.000'\n",
        "  print(\"Baju 2 mempunyai harga Rp.\", harga)\n",
        "elif baju == 3:\n",
        "  harga = '250.000'\n",
        "  print(\"Baju 3 mempunyai harga Rp.\", harga)\n",
        "elif baju == 4:\n",
        "  harga = '80.000'\n",
        "  print(\"Baju 4 mempunyai harga Rp.\", harga)\n",
        "else :\n",
        "  print(\"Kode baju tidak tersedia, silahkan masukan kode kembali\")"
      ],
      "metadata": {
        "colab": {
          "base_uri": "https://localhost:8080/"
        },
        "id": "sUEGDEnbdiuV",
        "outputId": "58311eb6-3686-49dc-ceee-fe19c0a0780a"
      },
      "execution_count": 32,
      "outputs": [
        {
          "output_type": "stream",
          "name": "stdout",
          "text": [
            "==========Program Harga Baju SWALAYAN BAHAGIA==========\n",
            "Masukan kode baju : 6\n",
            "Kode baju tidak tersedia, silahkan masukan kode kembali\n"
          ]
        }
      ]
    },
    {
      "cell_type": "code",
      "source": [
        "print(\"==========Program Harga Baju SWALAYAN BAHAGIA==========\")\n",
        "\n",
        "kode = int(input(\"Masukan kode baju: \"))\n",
        "\n",
        "if kode == 1:\n",
        "  harga = 45000\n",
        "  diskon = 10\n",
        "\n",
        "elif kode == 2:\n",
        "  harga = 105000\n",
        "  diskon = 30\n",
        "\n",
        "elif kode == 3:\n",
        "  harga = 350000\n",
        "  diskon = 50\n",
        "\n",
        "elif kode == 4:\n",
        "  harga = 80000\n",
        "  diskon = 20\n",
        "\n",
        "else :\n",
        "   print(\"Maaf, kode yang anda masukan salah\")\n",
        "\n",
        "akhir = harga - (harga * diskon / 100)\n",
        "\n",
        "if harga >=20000:\n",
        "  print(\"Harga baju\",kode,\"seharga\",harga,\"setelah diskon\", diskon,\"% yaitu\",akhir)\n",
        "else :\n",
        "  print(\"Mohon maaf anda tidak mendapat diskon\")"
      ],
      "metadata": {
        "colab": {
          "base_uri": "https://localhost:8080/"
        },
        "id": "O4_R78AGgR1t",
        "outputId": "0beb8cf5-b3d7-4d2f-d0fc-05bc8a3fe31c"
      },
      "execution_count": 69,
      "outputs": [
        {
          "output_type": "stream",
          "name": "stdout",
          "text": [
            "==========Program Harga Baju SWALAYAN BAHAGIA==========\n",
            "Masukan kode baju: 4\n",
            "Harga baju 4 seharga 80000 setelah diskon 20 % yaitu 64000.0\n"
          ]
        }
      ]
    },
    {
      "cell_type": "code",
      "source": [
        "print(\"==========Program Harga Baju SWALAYAN BAHAGIA==========\")\n",
        "\n",
        "baju1 = 45000\n",
        "baju2 = 105000\n",
        "baju3 = 250000\n",
        "baju4 = 80000\n",
        "\n",
        "akhir = baju1 + baju2 + baju3 + baju4\n",
        "\n",
        "print(\"Total belanja ibu Santi sebelum diskon yaitu\", akhir)"
      ],
      "metadata": {
        "colab": {
          "base_uri": "https://localhost:8080/"
        },
        "id": "fvhuK4RBkjVu",
        "outputId": "cf966b22-4fd8-4acb-cba5-747476426431"
      },
      "execution_count": 76,
      "outputs": [
        {
          "output_type": "stream",
          "name": "stdout",
          "text": [
            "==========Program Harga Baju SWALAYAN BAHAGIA==========\n",
            "Total belanja ibu Santi sebelum diskon yaitu 480000\n"
          ]
        }
      ]
    },
    {
      "cell_type": "code",
      "source": [
        "print(\"==========Program Harga Baju SWALAYAN BAHAGIA==========\")\n",
        "\n",
        "diskon1 = 10\n",
        "diskon2 = 30\n",
        "diskon3 = 50\n",
        "diskon4 = 20\n",
        "\n",
        "total = diskon1 + diskon2 + diskon3 + diskon4\n",
        "\n",
        "print(\"Total yang diskon yang didapat Ibu Santi\",total)"
      ],
      "metadata": {
        "colab": {
          "base_uri": "https://localhost:8080/"
        },
        "id": "CbBKcOZFpSdB",
        "outputId": "fb692dc5-dc1b-4e1b-f391-247c36ea3242"
      },
      "execution_count": 75,
      "outputs": [
        {
          "output_type": "stream",
          "name": "stdout",
          "text": [
            "==========Program Harga Baju SWALAYAN BAHAGIA==========\n",
            "Total yang diskon yang didapat Ibu Santi 110\n"
          ]
        }
      ]
    },
    {
      "cell_type": "code",
      "source": [
        "print(\"==========Program Harga Baju SWALAYAN BAHAGIA==========\")\n",
        "\n",
        "harga1 = int(input(\"Masukan harga baju 1 :\"))\n",
        "harga2 = int(input(\"Masukan harga baju 2 :\"))\n",
        "harga3 = int(input(\"Masukan harga baju 3 :\"))\n",
        "harga4 = int(input(\"Masukan harga baju 4 :\"))\n",
        "\n",
        "diskon1 = 10\n",
        "diskon2 = 30\n",
        "diskon3 = 50\n",
        "diskon4 = 20\n",
        "\n",
        "akhir1 = harga1 - (harga1 * diskon1 / 100)\n",
        "akhir2 = harga2 - (harga2 * diskon2 / 100)\n",
        "akhir3 = harga3 - (harga3 * diskon3 / 100)\n",
        "akhir4 = harga4 - (harga4 * diskon4 / 100)\n",
        "\n",
        "total = akhir1 + akhir2 + akhir3 + akhir4\n",
        "\n",
        "print(\"Total yang diskon yang didapat Ibu Santi\",total)\n"
      ],
      "metadata": {
        "colab": {
          "base_uri": "https://localhost:8080/"
        },
        "id": "QKIrTGdxlg4e",
        "outputId": "c58c4864-3257-45cf-9e42-ae3be5dcbe15"
      },
      "execution_count": 74,
      "outputs": [
        {
          "output_type": "stream",
          "name": "stdout",
          "text": [
            "==========Program Harga Baju SWALAYAN BAHAGIA==========\n",
            "Masukan harga baju 1 :45000\n",
            "Masukan harga baju 2 :105000\n",
            "Masukan harga baju 3 :250000\n",
            "Masukan harga baju 4 :80000\n",
            "Total yang diskon yang didapat Ibu Santi 303000.0\n"
          ]
        }
      ]
    },
    {
      "cell_type": "code",
      "source": [],
      "metadata": {
        "id": "LhxAdCsxrCqK"
      },
      "execution_count": null,
      "outputs": []
    }
  ]
}