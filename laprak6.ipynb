{
  "nbformat": 4,
  "nbformat_minor": 0,
  "metadata": {
    "colab": {
      "provenance": [],
      "authorship_tag": "ABX9TyM9e5/8oAT7IlJCzIr2ndLM",
      "include_colab_link": true
    },
    "kernelspec": {
      "name": "python3",
      "display_name": "Python 3"
    },
    "language_info": {
      "name": "python"
    }
  },
  "cells": [
    {
      "cell_type": "markdown",
      "metadata": {
        "id": "view-in-github",
        "colab_type": "text"
      },
      "source": [
        "<a href=\"https://colab.research.google.com/github/agungibr/laporan-praktek/blob/main/laprak6.ipynb\" target=\"_parent\"><img src=\"https://colab.research.google.com/assets/colab-badge.svg\" alt=\"Open In Colab\"/></a>"
      ]
    },
    {
      "cell_type": "code",
      "execution_count": 38,
      "metadata": {
        "colab": {
          "base_uri": "https://localhost:8080/"
        },
        "id": "GZCnsDCPfG0f",
        "outputId": "2d43e40d-0ba2-4a57-9dfb-9338a79b390f"
      },
      "outputs": [
        {
          "output_type": "stream",
          "name": "stdout",
          "text": [
            "Kalkulator Perhitungan Luas Bidang\n",
            "==========Menu========== :\n",
            "1. Luas Persegi Panjang\n",
            "2. Luas Segitiga\n",
            "3. Luas Lingkaran\n",
            "4. Keluar\n",
            "Pilihlah Perhitungan : 1\n",
            "Masukkan panjang : 2\n",
            "Masukkan lebar : 3\n",
            "Luas Persegi Panjang: 6.0\n",
            "==========Menu========== :\n",
            "1. Luas Persegi Panjang\n",
            "2. Luas Segitiga\n",
            "3. Luas Lingkaran\n",
            "4. Keluar\n",
            "Pilihlah Perhitungan : 4\n",
            "Program finish\n"
          ]
        }
      ],
      "source": [
        "#While loop If else\n",
        "print(\"Kalkulator Perhitungan Luas Bidang\")\n",
        "\n",
        "while True:\n",
        "  print(\"===============Menu=============== :\")\n",
        "  print(\"1. Luas Persegi Panjang\")\n",
        "  print(\"2. Luas Segitiga\")\n",
        "  print(\"3. Luas Lingkaran\")\n",
        "  print(\"4. Keluar\")\n",
        "\n",
        "  select = input(\"Pilihlah Perhitungan : \")\n",
        "\n",
        "  if select == '1':\n",
        "    p = float(input(\"Masukkan panjang : \"))\n",
        "    l = float(input(\"Masukkan lebar : \"))\n",
        "    L = p * l\n",
        "    print(f\"Luas Persegi Panjang: {L}\")\n",
        "\n",
        "  elif select == '2':\n",
        "    a = float(input(\"Masukan alas : \"))\n",
        "    t = float(input(\"Masukan tinggi :\"))\n",
        "    L = 0.5 * a * t\n",
        "    print(f\"Luas Segitiga : {L}\")\n",
        "\n",
        "  elif select == '3':\n",
        "    j = int(input(\"Masukan Jari-jari : \"))\n",
        "    L = math.pi * j * j\n",
        "    print(f\"Luas Lingkaran : {L}\")\n",
        "\n",
        "  elif select == '4':\n",
        "    print(\"Program finish\")\n",
        "    break\n",
        "\n",
        "  else:\n",
        "        print(\"Try again\")"
      ]
    },
    {
      "cell_type": "code",
      "source": [
        "#While loop def (optional)\n",
        "import math\n",
        "\n",
        "def persegi_panjang(p, l):\n",
        "  l = p * l\n",
        "  return l\n",
        "\n",
        "def segitiga(a, t):\n",
        "  luas = (a * t) / 2\n",
        "  return l\n",
        "\n",
        "def lingkaran(j):\n",
        "  luas = math.pi * j * j\n",
        "  return l\n",
        "\n",
        "def main():\n",
        "  pilihan = input(\"Pilih jenis perhitungan: \\n1. Luas Persegi Panjang\\n2. Luas Segitiga\\n3. Luas Lingkaran\\n4. Keluar\\nPilih: \")\n",
        "\n",
        "  while pilihan != \"4\":\n",
        "    if pilihan == \"1\":\n",
        "      p = float(input(\"Masukkan panjang: \"))\n",
        "      l = float(input(\"Masukkan lebar: \"))\n",
        "\n",
        "      print(\"Luas persegi panjang adalah\", persegi_panjang(p, l))\n",
        "\n",
        "    elif pilihan == \"2\":\n",
        "      a = float(input(\"Masukkan alas: \"))\n",
        "      t = float(input(\"Masukkan tinggi: \"))\n",
        "\n",
        "      print(\"Luas segitiga adalah\", segitiga(a, t))\n",
        "\n",
        "    elif pilihan == \"3\":\n",
        "      j = float(input(\"Masukkan jari-jari: \"))\n",
        "\n",
        "      print(\"Luas lingkaran adalah\", lingkaran(j))\n",
        "\n",
        "    elif pilihan == \"4\":\n",
        "      print(\"Program finish\")\n",
        "      break\n",
        "\n",
        "    else:\n",
        "      print(\"Pilihan tidak valid.\")\n",
        "\n",
        "    pilihan = input(\"Pilih jenis perhitungan: \\n1. Luas Persegi Panjang\\n2. Luas Segitiga\\n3. Luas Lingkaran\\n4. Keluar\\nPilih: \")\n",
        "\n",
        "if __name__ == \"__main__\":\n",
        "  main()\n"
      ],
      "metadata": {
        "colab": {
          "base_uri": "https://localhost:8080/"
        },
        "id": "uhXE7XgzlSj6",
        "outputId": "d2c83d19-ac1e-4930-f9be-3dff9116b577"
      },
      "execution_count": 27,
      "outputs": [
        {
          "name": "stdout",
          "output_type": "stream",
          "text": [
            "Pilih jenis perhitungan: \n",
            "1. Luas Persegi Panjang\n",
            "2. Luas Segitiga\n",
            "3. Luas Lingkaran\n",
            "4. Keluar\n",
            "Pilih: 4\n"
          ]
        }
      ]
    },
    {
      "cell_type": "code",
      "source": [
        "#for loop\n",
        "tinggi = int(input(\"Masukan tinggi segitiga : \"));\n",
        "\n",
        "for i in range(0, tinggi):\n",
        "\tfor j in range(0, tinggi-i-1):\n",
        "\t\tprint(end=\" \")\n",
        "\tfor j in range(0, i+1):\n",
        "\t\tprint(\"*\", end=\" \")\n",
        "\tprint()"
      ],
      "metadata": {
        "colab": {
          "base_uri": "https://localhost:8080/"
        },
        "id": "jkPr1aKYjmm3",
        "outputId": "a26cb274-2af2-4d8a-f831-ec9fe9f87600"
      },
      "execution_count": 28,
      "outputs": [
        {
          "output_type": "stream",
          "name": "stdout",
          "text": [
            "Masukan tinggi segitiga : 10\n",
            "         * \n",
            "        * * \n",
            "       * * * \n",
            "      * * * * \n",
            "     * * * * * \n",
            "    * * * * * * \n",
            "   * * * * * * * \n",
            "  * * * * * * * * \n",
            " * * * * * * * * * \n",
            "* * * * * * * * * * \n"
          ]
        }
      ]
    },
    {
      "cell_type": "code",
      "source": [
        "#while loop\n",
        "string = \"\"\n",
        "\n",
        "x = int(input(\"Masukkan angka :\"))\n",
        "bar = x\n",
        "\n",
        "while bar >= 0:\n",
        "\n",
        "\tkol = bar\n",
        "\twhile kol > 0:\n",
        "\t\tstring = string + \"   \"\n",
        "\t\tkol = kol - 1\n",
        "\n",
        "\tkiri = 1\n",
        "\twhile kiri < (x - (bar-1)):\n",
        "\t\tstring = string + \" * \"\n",
        "\t\tkiri = kiri + 1\n",
        "\n",
        "\tkanan = 1\n",
        "\twhile kanan < kiri -1:\n",
        "\t\tstring = string + \" * \"\n",
        "\t\tkanan = kanan + 1\n",
        "\n",
        "\tstring = string + \"\\n\\n\"\n",
        "\tbar = bar - 1\n",
        "\n",
        "print (string)"
      ],
      "metadata": {
        "colab": {
          "base_uri": "https://localhost:8080/"
        },
        "id": "pmO0KCxg67D_",
        "outputId": "96e92ef7-ac80-4daf-f15e-b0465e755d3d"
      },
      "execution_count": 35,
      "outputs": [
        {
          "output_type": "stream",
          "name": "stdout",
          "text": [
            "Masukkan angka :10\n",
            "                              \n",
            "\n",
            "                            * \n",
            "\n",
            "                         *  *  * \n",
            "\n",
            "                      *  *  *  *  * \n",
            "\n",
            "                   *  *  *  *  *  *  * \n",
            "\n",
            "                *  *  *  *  *  *  *  *  * \n",
            "\n",
            "             *  *  *  *  *  *  *  *  *  *  * \n",
            "\n",
            "          *  *  *  *  *  *  *  *  *  *  *  *  * \n",
            "\n",
            "       *  *  *  *  *  *  *  *  *  *  *  *  *  *  * \n",
            "\n",
            "    *  *  *  *  *  *  *  *  *  *  *  *  *  *  *  *  * \n",
            "\n",
            " *  *  *  *  *  *  *  *  *  *  *  *  *  *  *  *  *  *  * \n",
            "\n",
            "\n"
          ]
        }
      ]
    },
    {
      "cell_type": "code",
      "source": [
        "#sum numbers\n",
        "numbers = [7, 8, 9, 10, 11, 12, 13, 6, 5, 4, 3, 2, 1]\n",
        "\n",
        "total = 0\n",
        "\n",
        "for number in numbers:\n",
        "  total += number\n",
        "\n",
        "print(\"Jumlah semua nilai adalah\", total)\n"
      ],
      "metadata": {
        "colab": {
          "base_uri": "https://localhost:8080/"
        },
        "id": "_gwZ9IST7Yiv",
        "outputId": "fcdeba8f-cb95-4eb6-9a13-8349dcb9af7e"
      },
      "execution_count": 36,
      "outputs": [
        {
          "output_type": "stream",
          "name": "stdout",
          "text": [
            "Jumlah semua nilai adalah 91\n"
          ]
        }
      ]
    }
  ]
}