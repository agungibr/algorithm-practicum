{
  "nbformat": 4,
  "nbformat_minor": 0,
  "metadata": {
    "colab": {
      "provenance": [],
      "authorship_tag": "ABX9TyNLljR6yrsRAA3zr5UF/sSH",
      "include_colab_link": true
    },
    "kernelspec": {
      "name": "python3",
      "display_name": "Python 3"
    },
    "language_info": {
      "name": "python"
    }
  },
  "cells": [
    {
      "cell_type": "markdown",
      "metadata": {
        "id": "view-in-github",
        "colab_type": "text"
      },
      "source": [
        "<a href=\"https://colab.research.google.com/github/agungibr/algorithm-practicum/blob/main/laprak8.ipynb\" target=\"_parent\"><img src=\"https://colab.research.google.com/assets/colab-badge.svg\" alt=\"Open In Colab\"/></a>"
      ]
    },
    {
      "cell_type": "markdown",
      "source": [
        "Rumus Kepadatan Penduduk Agraris"
      ],
      "metadata": {
        "id": "exIIqyCAMmjc"
      }
    },
    {
      "cell_type": "code",
      "execution_count": 15,
      "metadata": {
        "colab": {
          "base_uri": "https://localhost:8080/"
        },
        "id": "6eo93Z5EHqxs",
        "outputId": "498bc574-8dd1-4056-a24e-0360c1cd0842"
      },
      "outputs": [
        {
          "output_type": "stream",
          "name": "stdout",
          "text": [
            "Masukkan Jumlah penduduk: 200000\n",
            "Masukkan Luas Wilayah Pertanian: 122000\n",
            "Kepadatan Penduduknya yaitu 1.64 jiwa per km2\n"
          ]
        }
      ],
      "source": [
        "from weee import kepadatan\n",
        "\n",
        "jp = int(input(\"Masukkan Jumlah penduduk: \"))\n",
        "lwp = int(input(\"Masukkan Luas Wilayah Pertanian: \"))\n",
        "\n",
        "print(f\"Kepadatan Penduduknya yaitu {(kepadatan(jp, lwp)):.2f} jiwa per km2\")"
      ]
    },
    {
      "cell_type": "markdown",
      "source": [
        "Rumus Pertumbuhan Penduduk Alami"
      ],
      "metadata": {
        "id": "qKPHt7_6Mwix"
      }
    },
    {
      "cell_type": "code",
      "source": [
        "from weee import pertumbuhan\n",
        "\n",
        "b = int(input(\"Masukkan Jumlah Kelahiran: \"))\n",
        "d = int(input(\"Masukkan Jumlah Kematian: \"))\n",
        "p = int(input(\"Masukkan Jumlah Penduduk Awal: \"))\n",
        "\n",
        "print(f\"Presentase pertumbuhan penduduknya yaitu {(pertumbuhan(b, d, p)):.2f}%\")"
      ],
      "metadata": {
        "id": "OltWC19pKJxs",
        "colab": {
          "base_uri": "https://localhost:8080/"
        },
        "outputId": "0af1a1fd-a5a6-4908-898b-eccfdbda5323"
      },
      "execution_count": 16,
      "outputs": [
        {
          "output_type": "stream",
          "name": "stdout",
          "text": [
            "Masukkan Jumlah Kelahiran: 12000\n",
            "Masukkan Jumlah Kematian: 4000\n",
            "Masukkan Jumlah Penduduk Awal: 500000\n",
            "Presentase pertumbuhan penduduknya yaitu 1.60%\n"
          ]
        }
      ]
    },
    {
      "cell_type": "markdown",
      "source": [
        "**Mengubah Skala Garis ke Angka**"
      ],
      "metadata": {
        "id": "iIasTC7iP3Ci"
      }
    },
    {
      "cell_type": "code",
      "source": [
        "from weee import convert\n",
        "\n",
        "while True:\n",
        "  angka = int(input(\"Masukkan angka dalam cm: \"))\n",
        "  print(f\"{angka} cm pada peta mewakili {(convert(angka))} km pada jarak sebenarnya\")\n",
        "\n",
        "  angka+= 1\n",
        "  if angka == 6:\n",
        "    break"
      ],
      "metadata": {
        "colab": {
          "base_uri": "https://localhost:8080/"
        },
        "id": "N_yM0SOQegqf",
        "outputId": "3492ea39-d257-417d-c53a-24447a4ac749"
      },
      "execution_count": 18,
      "outputs": [
        {
          "output_type": "stream",
          "name": "stdout",
          "text": [
            "Masukkan angka dalam cm: 1\n",
            "1 cm pada peta mewakili 1.8 km pada jarak sebenarnya\n",
            "Masukkan angka dalam cm: 2\n",
            "2 cm pada peta mewakili 3.6 km pada jarak sebenarnya\n",
            "Masukkan angka dalam cm: 3\n",
            "3 cm pada peta mewakili 5.4 km pada jarak sebenarnya\n",
            "Masukkan angka dalam cm: 4\n",
            "4 cm pada peta mewakili 7.2 km pada jarak sebenarnya\n",
            "Masukkan angka dalam cm: 5\n",
            "5 cm pada peta mewakili 9.0 km pada jarak sebenarnya\n"
          ]
        }
      ]
    },
    {
      "cell_type": "code",
      "source": [
        "from weee import convert2\n",
        "\n",
        "while True:\n",
        "  angka = int(input(\"Masukkan angka dalam cm: \"))\n",
        "  print(angka, \"cm jika diubah ke km menjadi\", convert2(angka), \"km\")\n",
        "\n",
        "  angka+= 1\n",
        "  if angka == 6:\n",
        "    break"
      ],
      "metadata": {
        "colab": {
          "base_uri": "https://localhost:8080/"
        },
        "id": "iF3y3oCoprol",
        "outputId": "dd6d0829-0133-418f-9dc0-cae86e08df0a"
      },
      "execution_count": 19,
      "outputs": [
        {
          "output_type": "stream",
          "name": "stdout",
          "text": [
            "Masukkan angka dalam cm: 1\n",
            "1 cm jika diubah ke km menjadi 100000 km\n",
            "Masukkan angka dalam cm: 2\n",
            "2 cm jika diubah ke km menjadi 200000 km\n",
            "Masukkan angka dalam cm: 3\n",
            "3 cm jika diubah ke km menjadi 300000 km\n",
            "Masukkan angka dalam cm: 4\n",
            "4 cm jika diubah ke km menjadi 400000 km\n",
            "Masukkan angka dalam cm: 5\n",
            "5 cm jika diubah ke km menjadi 500000 km\n"
          ]
        }
      ]
    },
    {
      "cell_type": "code",
      "source": [
        "from weee import convert3\n",
        "\n",
        "for i in range(1, 6):\n",
        "  angka = int(input(\"Masukkan angka dalam km: \"))\n",
        "  print(angka, \"km jika diubah ke cm menjadi\", float(convert3(angka)), \"cm\")"
      ],
      "metadata": {
        "colab": {
          "base_uri": "https://localhost:8080/"
        },
        "id": "nB8b4kNDral9",
        "outputId": "c48e5bef-3d15-4e65-cbd9-529affc8fafd"
      },
      "execution_count": 23,
      "outputs": [
        {
          "output_type": "stream",
          "name": "stdout",
          "text": [
            "Masukkan angka dalam km: 1000\n",
            "1000 km jika diubah ke cm menjadi 0.01 cm\n",
            "Masukkan angka dalam km: 2000\n",
            "2000 km jika diubah ke cm menjadi 0.02 cm\n",
            "Masukkan angka dalam km: 3000\n",
            "3000 km jika diubah ke cm menjadi 0.03 cm\n",
            "Masukkan angka dalam km: 4000\n",
            "4000 km jika diubah ke cm menjadi 0.04 cm\n",
            "Masukkan angka dalam km: 5000\n",
            "5000 km jika diubah ke cm menjadi 0.05 cm\n"
          ]
        }
      ]
    }
  ]
}