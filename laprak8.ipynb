{
  "nbformat": 4,
  "nbformat_minor": 0,
  "metadata": {
    "colab": {
      "provenance": [],
      "authorship_tag": "ABX9TyOTzh8BaJOvn2d/sllaZS+5",
      "include_colab_link": true
    },
    "kernelspec": {
      "name": "python3",
      "display_name": "Python 3"
    },
    "language_info": {
      "name": "python"
    }
  },
  "cells": [
    {
      "cell_type": "markdown",
      "metadata": {
        "id": "view-in-github",
        "colab_type": "text"
      },
      "source": [
        "<a href=\"https://colab.research.google.com/github/agungibr/algorithm-practicum/blob/main/laprak8.ipynb\" target=\"_parent\"><img src=\"https://colab.research.google.com/assets/colab-badge.svg\" alt=\"Open In Colab\"/></a>"
      ]
    },
    {
      "cell_type": "markdown",
      "source": [
        "Rumus Kepadatan Penduduk Agraris"
      ],
      "metadata": {
        "id": "exIIqyCAMmjc"
      }
    },
    {
      "cell_type": "code",
      "execution_count": 1,
      "metadata": {
        "colab": {
          "base_uri": "https://localhost:8080/"
        },
        "id": "6eo93Z5EHqxs",
        "outputId": "98c26d3f-fa2d-4276-dbf5-2247057a1bf5"
      },
      "outputs": [
        {
          "output_type": "stream",
          "name": "stdout",
          "text": [
            "Masukkan Jumlah penduduk: 200000\n",
            "Masukkan Luas Wilayah Pertanian: 122000\n",
            "Kepadatan Penduduknya yaitu 1.64 jiwa per km2\n"
          ]
        }
      ],
      "source": [
        "from laprak import kepadatan\n",
        "\n",
        "jp = int(input(\"Masukkan Jumlah penduduk: \"))\n",
        "lwp = int(input(\"Masukkan Luas Wilayah Pertanian: \"))\n",
        "\n",
        "print(f\"Kepadatan Penduduknya yaitu {(kepadatan(jp, lwp)):.2f} jiwa per km2\")"
      ]
    },
    {
      "cell_type": "markdown",
      "source": [
        "Rumus Pertumbuhan Penduduk Alami"
      ],
      "metadata": {
        "id": "qKPHt7_6Mwix"
      }
    },
    {
      "cell_type": "code",
      "source": [
        "from laprak import pertumbuhan\n",
        "\n",
        "b = int(input(\"Masukkan Jumlah Kelahiran: \"))\n",
        "d = int(input(\"Masukkan Jumlah Kematian: \"))\n",
        "p = int(input(\"Masukkan Jumlah Penduduk Awal: \"))\n",
        "\n",
        "print(f\"Presentase pertumbuhan penduduknya yaitu {(pertumbuhan(b, d, p)):.2f}%\")"
      ],
      "metadata": {
        "id": "OltWC19pKJxs",
        "colab": {
          "base_uri": "https://localhost:8080/"
        },
        "outputId": "49e953a3-d258-423c-d7fa-de4f8d6c850a"
      },
      "execution_count": 2,
      "outputs": [
        {
          "output_type": "stream",
          "name": "stdout",
          "text": [
            "Masukkan Jumlah Kelahiran: 12000\n",
            "Masukkan Jumlah Kematian: 4000\n",
            "Masukkan Jumlah Penduduk Awal: 500000\n",
            "Presentase pertumbuhan penduduknya yaitu 1.60%\n"
          ]
        }
      ]
    },
    {
      "cell_type": "markdown",
      "source": [
        "**Mengubah Skala Garis ke Angka**"
      ],
      "metadata": {
        "id": "iIasTC7iP3Ci"
      }
    },
    {
      "cell_type": "markdown",
      "source": [
        "Mengubah Centimeter ke Kilomenter"
      ],
      "metadata": {
        "id": "p4tmhu8uJBjq"
      }
    },
    {
      "cell_type": "code",
      "source": [
        "from laprak import *\n",
        "\n",
        "while True:\n",
        "    angka = int(input(\"Masukkan angka dalam cm: \"))\n",
        "    print(angka, \"cm jika diubah ke km menjadi\", cm_to_km(angka), \"km\")\n",
        "\n",
        "    angka += 1\n",
        "    if angka == 6:\n",
        "        break"
      ],
      "metadata": {
        "id": "VjjhTVW_PuFQ",
        "colab": {
          "base_uri": "https://localhost:8080/"
        },
        "outputId": "d1aceb4a-c6de-4cd3-90d2-3b2ab3d4dc05"
      },
      "execution_count": 13,
      "outputs": [
        {
          "output_type": "stream",
          "name": "stdout",
          "text": [
            "Masukkan angka dalam cm: 1\n",
            "1 cm jika diubah ke km menjadi 0.0005555555555555556 km\n",
            "Masukkan angka dalam cm: 2\n",
            "2 cm jika diubah ke km menjadi 0.0011111111111111111 km\n",
            "Masukkan angka dalam cm: 3\n",
            "3 cm jika diubah ke km menjadi 0.0016666666666666668 km\n",
            "Masukkan angka dalam cm: 4\n",
            "4 cm jika diubah ke km menjadi 0.0022222222222222222 km\n",
            "Masukkan angka dalam cm: 5\n",
            "5 cm jika diubah ke km menjadi 0.002777777777777778 km\n"
          ]
        }
      ]
    },
    {
      "cell_type": "markdown",
      "source": [
        "Mengubah Kilometer ke Centimeter"
      ],
      "metadata": {
        "id": "8cFIktP0JfbW"
      }
    },
    {
      "cell_type": "code",
      "source": [
        "from laprak import *\n",
        "\n",
        "while True:\n",
        "    angka = int(input(\"Masukkan angka dalam km: \"))\n",
        "    print(f\"{angka} km jika diubah ke cm menjadi {(km_to_cm(angka)):.2f} cm\")\n",
        "\n",
        "    angka += 1\n",
        "    if angka == 6:\n",
        "        break"
      ],
      "metadata": {
        "id": "dxHuV3dAonOl",
        "colab": {
          "base_uri": "https://localhost:8080/"
        },
        "outputId": "1734bac9-e023-4c3f-d5dd-e6ae4e566381"
      },
      "execution_count": 7,
      "outputs": [
        {
          "output_type": "stream",
          "name": "stdout",
          "text": [
            "Masukkan angka dalam km: 1\n",
            "1 km jika diubah ke cm menjadi 100000.00 cm\n",
            "Masukkan angka dalam km: 2\n",
            "2 km jika diubah ke cm menjadi 200000.00 cm\n",
            "Masukkan angka dalam km: 3\n",
            "3 km jika diubah ke cm menjadi 300000.00 cm\n",
            "Masukkan angka dalam km: 4\n",
            "4 km jika diubah ke cm menjadi 400000.00 cm\n",
            "Masukkan angka dalam km: 5\n",
            "5 km jika diubah ke cm menjadi 500000.00 cm\n"
          ]
        }
      ]
    }
  ]
}