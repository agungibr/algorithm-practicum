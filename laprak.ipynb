{
  "nbformat": 4,
  "nbformat_minor": 0,
  "metadata": {
    "colab": {
      "provenance": [],
      "authorship_tag": "ABX9TyPziC7UbwlXzsqG0Fnnkfs7",
      "include_colab_link": true
    },
    "kernelspec": {
      "name": "python3",
      "display_name": "Python 3"
    },
    "language_info": {
      "name": "python"
    }
  },
  "cells": [
    {
      "cell_type": "markdown",
      "metadata": {
        "id": "view-in-github",
        "colab_type": "text"
      },
      "source": [
        "<a href=\"https://colab.research.google.com/github/agungibr/algorithm-practicum/blob/main/laprak.ipynb\" target=\"_parent\"><img src=\"https://colab.research.google.com/assets/colab-badge.svg\" alt=\"Open In Colab\"/></a>"
      ]
    },
    {
      "cell_type": "code",
      "execution_count": null,
      "metadata": {
        "id": "fVc6bvumLOK_"
      },
      "outputs": [],
      "source": [
        "def kepadatan(a1, a2):\n",
        "    result = a1 / a2\n",
        "    return result\n",
        "\n",
        "def pertumbuhan(a1, a2, a3):\n",
        "    result = (a1 - a2) / a3 * 100\n",
        "    return result\n",
        "\n",
        "def cm_to_km(a1):\n",
        "    skala = 100000\n",
        "    result = a1 * skala\n",
        "    return result\n",
        "\n",
        "def km_to_cm(a1):\n",
        "    skala = 100000\n",
        "    result = a1 / skala\n",
        "    return result"
      ]
    }
  ]
}