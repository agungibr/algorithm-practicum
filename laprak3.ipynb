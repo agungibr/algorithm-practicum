{
  "nbformat": 4,
  "nbformat_minor": 0,
  "metadata": {
    "colab": {
      "provenance": [],
      "authorship_tag": "ABX9TyO5VbZ4eX051c+FLaXcCLbV",
      "include_colab_link": true
    },
    "kernelspec": {
      "name": "python3",
      "display_name": "Python 3"
    },
    "language_info": {
      "name": "python"
    }
  },
  "cells": [
    {
      "cell_type": "markdown",
      "metadata": {
        "id": "view-in-github",
        "colab_type": "text"
      },
      "source": [
        "<a href=\"https://colab.research.google.com/github/agungibr/laporan-praktek/blob/main/laprak3.ipynb\" target=\"_parent\"><img src=\"https://colab.research.google.com/assets/colab-badge.svg\" alt=\"Open In Colab\"/></a>"
      ]
    },
    {
      "cell_type": "code",
      "execution_count": null,
      "metadata": {
        "colab": {
          "base_uri": "https://localhost:8080/"
        },
        "id": "WThl1Mv4bKwK",
        "outputId": "6d8f8732-6ce7-4a4f-9c42-cdce3cd2cec6"
      },
      "outputs": [
        {
          "output_type": "stream",
          "name": "stdout",
          "text": [
            "a == b : False\n",
            "a > b : True\n",
            "a < b : False\n",
            "a <= b : False\n",
            "a >= b : True\n",
            "a != b : True\n"
          ]
        }
      ],
      "source": [
        "#Jika nilai a adalah 9 dan b adalah 5\n",
        "\n",
        "a = 9\n",
        "b = 5\n",
        "\n",
        "print(\"a == b :\", a==b)\n",
        "print(\"a > b :\", a>b)\n",
        "print(\"a < b :\", a<b)\n",
        "print(\"a <= b :\", a<=b)\n",
        "print(\"a >= b :\", a>=b)\n",
        "print(\"a != b :\", a!=b)"
      ]
    },
    {
      "cell_type": "code",
      "source": [
        "tahun = 2100\n",
        "\n",
        "if (tahun % 400 == 0) or (tahun % 4 == 0 and tahun % 100 != 0):\n",
        "  print(\"Tahun ini adalah tahun kabisat\")\n",
        "else :\n",
        "  print(\"Tahun ini bukan tahun kabisat\")"
      ],
      "metadata": {
        "id": "-PzJnjjBcMKi"
      },
      "execution_count": null,
      "outputs": []
    },
    {
      "cell_type": "code",
      "source": [
        "tahun = int(input('Masukkan tahun anda : '))\n",
        "tahunkabisat = (tahun % 400 == 0) or (tahun % 4 == 0 and tahun % 100 != 0)\n",
        "print ('Tahun yang anda masukkan', tahunkabisat)"
      ],
      "metadata": {
        "colab": {
          "base_uri": "https://localhost:8080/"
        },
        "id": "gPO6TReshIh5",
        "outputId": "0106bde1-f243-4b17-a7a1-bcc82a789dab"
      },
      "execution_count": null,
      "outputs": [
        {
          "output_type": "stream",
          "name": "stdout",
          "text": [
            "Masukkan tahun anda : 2020\n",
            "Tahun yang anda masukkan True\n"
          ]
        }
      ]
    },
    {
      "cell_type": "code",
      "source": [
        "#Jika nilai a adalah 5 dan b adalah 6\n",
        "\n",
        "a = 5\n",
        "b = 6\n",
        "\n",
        "print(\"a + b :\", a+b)\n",
        "print(\"b - a :\", b-a)\n",
        "print(\"a * b :\", a*b)\n",
        "print(\"a / b :\", a/b)"
      ],
      "metadata": {
        "colab": {
          "base_uri": "https://localhost:8080/"
        },
        "id": "rl0oR4N758He",
        "outputId": "e454efd5-ca3b-4f49-e311-2b8e3268bcad"
      },
      "execution_count": null,
      "outputs": [
        {
          "output_type": "stream",
          "name": "stdout",
          "text": [
            "a + b : 11\n",
            "b - a : 1\n",
            "a * b : 30\n",
            "a / b : 0.8333333333333334\n"
          ]
        }
      ]
    }
  ]
}