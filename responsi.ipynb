{
  "nbformat": 4,
  "nbformat_minor": 0,
  "metadata": {
    "colab": {
      "provenance": [],
      "authorship_tag": "ABX9TyMJD8EOv0gv+fg4KVOzcx/1",
      "include_colab_link": true
    },
    "kernelspec": {
      "name": "python3",
      "display_name": "Python 3"
    },
    "language_info": {
      "name": "python"
    }
  },
  "cells": [
    {
      "cell_type": "markdown",
      "metadata": {
        "id": "view-in-github",
        "colab_type": "text"
      },
      "source": [
        "<a href=\"https://colab.research.google.com/github/agungibr/algorithm-practicum/blob/main/responsi.ipynb\" target=\"_parent\"><img src=\"https://colab.research.google.com/assets/colab-badge.svg\" alt=\"Open In Colab\"/></a>"
      ]
    },
    {
      "cell_type": "markdown",
      "source": [
        "## **Nomer 1**"
      ],
      "metadata": {
        "id": "00gxe9YIw-0y"
      }
    },
    {
      "cell_type": "code",
      "execution_count": 10,
      "metadata": {
        "colab": {
          "base_uri": "https://localhost:8080/",
          "height": 0
        },
        "id": "C2KETAhAwnPQ",
        "outputId": "db304a6c-93eb-465e-b2e3-f436bd5451e3"
      },
      "outputs": [
        {
          "output_type": "stream",
          "name": "stdout",
          "text": [
            "Angka Kelipatan: [3, 5, 6, 9, 10, 12, 15, 18, 20, 21, 24, 25, 27, 30, 33, 35]\n",
            "Total:  293\n"
          ]
        }
      ],
      "source": [
        "angka = 0\n",
        "list = []\n",
        "\n",
        "for i in range (1, 36):\n",
        "    if i % 3 == 0 or i % 5 == 0:\n",
        "      list.append(int(i))\n",
        "      angka += i\n",
        "\n",
        "print(\"Angka Kelipatan:\", list)\n",
        "print(\"Total: \", angka)"
      ]
    },
    {
      "cell_type": "markdown",
      "source": [
        "## **Nomer 2**"
      ],
      "metadata": {
        "id": "LkXaOorUzCKE"
      }
    },
    {
      "cell_type": "code",
      "source": [
        "n = 5\n",
        "deret = \"\"\n",
        "jumlah = 0\n",
        "\n",
        "for i in range(1, n+1):\n",
        "    angka = int(str(n) * i)\n",
        "    deret += str(angka) + \" + \"\n",
        "    jumlah += angka\n",
        "\n",
        "deret = deret.rstrip(\" + \")\n",
        "print(deret)\n",
        "print(\"Sum of above series is:\", jumlah)"
      ],
      "metadata": {
        "colab": {
          "base_uri": "https://localhost:8080/"
        },
        "id": "65khY17xzGqa",
        "outputId": "d467dccb-787a-47bf-978e-c2e11d691c55"
      },
      "execution_count": null,
      "outputs": [
        {
          "output_type": "stream",
          "name": "stdout",
          "text": [
            "5 + 55 + 555 + 5555 + 55555\n",
            "Sum of above series is: 61725\n"
          ]
        }
      ]
    },
    {
      "cell_type": "markdown",
      "source": [
        "## **Nomer 3**"
      ],
      "metadata": {
        "id": "TUUi2Oak4_QE"
      }
    },
    {
      "cell_type": "code",
      "source": [
        "nilai = [58, 13, 107, -30, -7]\n",
        "\n",
        "def terbesar(a, n):\n",
        "    if n == 1:\n",
        "        return a[0]\n",
        "    return max(a[n-1], terbesar(a, n-1))\n",
        "\n",
        "print(\"Nilai terbesar:\",terbesar(nilai, len(nilai)))"
      ],
      "metadata": {
        "colab": {
          "base_uri": "https://localhost:8080/"
        },
        "id": "sgUggC335FZd",
        "outputId": "f15b3b5a-755b-420e-9d78-77c304b6389d"
      },
      "execution_count": null,
      "outputs": [
        {
          "output_type": "stream",
          "name": "stdout",
          "text": [
            "Nilai terbesar: 107\n"
          ]
        }
      ]
    },
    {
      "cell_type": "markdown",
      "source": [
        "## **Nomer 4**"
      ],
      "metadata": {
        "id": "8kEH_N4r6ZqX"
      }
    },
    {
      "cell_type": "markdown",
      "source": [
        "Kondisi 1"
      ],
      "metadata": {
        "id": "E32lIIfX-l3n"
      }
    },
    {
      "cell_type": "code",
      "source": [
        "baju = int(input(\"Masukkan Jumlah Baju yang dibeli: \"))\n",
        "celana = int(input(\"Masukkan Jumlah Celana yang dibeli: \"))\n",
        "total = float(baju*120000 + celana*90000)\n",
        "\n",
        "if baju > 4 and celana >= 3:\n",
        "  print(\"Anda mendapatkan diskon 20%\")\n",
        "  print(\"Total sebelum diskon\", total)\n",
        "  diskon = total - (total * 0.2)\n",
        "  print(\"Total yang harus dibayarkan adalah\", diskon)\n",
        "elif baju == 3 and celana == 2:\n",
        "  print(\"Anda mendapatkan diskon 10%\")\n",
        "  print(\"Total sebelum diskon\", total)\n",
        "  diskon = total - (total * 0.1)\n",
        "  print(\"Total yang harus dibayarkan adalah\", diskon)\n",
        "else:\n",
        "   print(\"Anda tidak mendapatkan diskon\")\n",
        "   print(\"Total sebelum diskon\", total)\n",
        "   print(\"Total yang harus dibayarkan adalah\", total)"
      ],
      "metadata": {
        "colab": {
          "base_uri": "https://localhost:8080/"
        },
        "id": "aSYeKzIU6cSL",
        "outputId": "d27e717b-bfe7-4274-f033-4956e7e1fbdc"
      },
      "execution_count": null,
      "outputs": [
        {
          "output_type": "stream",
          "name": "stdout",
          "text": [
            "Masukkan Jumlah Baju yang dibeli: 6\n",
            "Masukkan Jumlah Celana yang dibeli: 6\n",
            "Anda mendapatkan diskon 20%\n",
            "Total sebelum diskon 1260000.0\n",
            "Total yang harus dibayarkan adalah 1008000.0\n"
          ]
        }
      ]
    },
    {
      "cell_type": "markdown",
      "source": [
        "Kondisi 2"
      ],
      "metadata": {
        "id": "7Pbi8ttI-ngt"
      }
    },
    {
      "cell_type": "code",
      "source": [
        "baju = int(input(\"Masukkan Jumlah Baju yang dibeli: \"))\n",
        "celana = int(input(\"Masukkan Jumlah Celana yang dibeli: \"))\n",
        "total = float(baju*120000 + celana*90000)\n",
        "\n",
        "if baju > 4 and celana >= 3:\n",
        "  print(\"Anda mendapatkan diskon 20%\")\n",
        "  print(\"Total sebelum diskon\", total)\n",
        "  diskon = total - (total * 0.2)\n",
        "  print(\"Total yang harus dibayarkan adalah\", diskon)\n",
        "elif baju == 3 and celana == 2:\n",
        "  print(\"Anda mendapatkan diskon 10%\")\n",
        "  print(\"Total sebelum diskon\", total)\n",
        "  diskon = total - (total * 0.1)\n",
        "  print(\"Total yang harus dibayarkan adalah\", diskon)\n",
        "else:\n",
        "   print(\"Anda tidak mendapatkan diskon\")\n",
        "   print(\"Total sebelum diskon\", total)\n",
        "   print(\"Total yang harus dibayarkan adalah\", total)"
      ],
      "metadata": {
        "colab": {
          "base_uri": "https://localhost:8080/"
        },
        "id": "b_zlO_Kz-pis",
        "outputId": "17acd0e2-bdf9-4791-a93d-8641b6ae6577"
      },
      "execution_count": null,
      "outputs": [
        {
          "output_type": "stream",
          "name": "stdout",
          "text": [
            "Masukkan Jumlah Baju yang dibeli: 3\n",
            "Masukkan Jumlah Celana yang dibeli: 2\n",
            "Anda mendapatkan diskon 10%\n",
            "Total sebelum diskon 540000.0\n",
            "Total yang harus dibayarkan adalah 486000.0\n"
          ]
        }
      ]
    },
    {
      "cell_type": "markdown",
      "source": [
        "Kondisi 3"
      ],
      "metadata": {
        "id": "yR2UzCYM-ojV"
      }
    },
    {
      "cell_type": "code",
      "source": [
        "baju = int(input(\"Masukkan Jumlah Baju yang dibeli: \"))\n",
        "celana = int(input(\"Masukkan Jumlah Celana yang dibeli: \"))\n",
        "total = float(baju*120000 + celana*90000)\n",
        "\n",
        "if baju > 4 and celana >= 3:\n",
        "  print(\"Anda mendapatkan diskon 20%\")\n",
        "  print(\"Total sebelum diskon\", total)\n",
        "  diskon = total - (total * 0.2)\n",
        "  print(\"Total yang harus dibayarkan adalah\", diskon)\n",
        "elif baju == 3 and celana == 2:\n",
        "  print(\"Anda mendapatkan diskon 10%\")\n",
        "  print(\"Total sebelum diskon\", total)\n",
        "  diskon = total - (total * 0.1)\n",
        "  print(\"Total yang harus dibayarkan adalah\", diskon)\n",
        "else:\n",
        "   print(\"Anda tidak mendapatkan diskon\")\n",
        "   print(\"Total sebelum diskon\", total)\n",
        "   print(\"Total yang harus dibayarkan adalah\", total)"
      ],
      "metadata": {
        "colab": {
          "base_uri": "https://localhost:8080/"
        },
        "id": "9Wbe3Moh-p_4",
        "outputId": "e454c059-4cdd-46ba-90f2-6e1b7bb9ec4b"
      },
      "execution_count": null,
      "outputs": [
        {
          "output_type": "stream",
          "name": "stdout",
          "text": [
            "Masukkan Jumlah Baju yang dibeli: 1\n",
            "Masukkan Jumlah Celana yang dibeli: 1\n",
            "Anda tidak mendapatkan diskon\n",
            "Total sebelum diskon 210000.0\n",
            "Total yang harus dibayarkan adalah 210000.0\n"
          ]
        }
      ]
    }
  ]
}