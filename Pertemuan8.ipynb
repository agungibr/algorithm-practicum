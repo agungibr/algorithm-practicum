{
  "nbformat": 4,
  "nbformat_minor": 0,
  "metadata": {
    "colab": {
      "provenance": [],
      "authorship_tag": "ABX9TyOU/c/5M8R93R2hnKezBWDL",
      "include_colab_link": true
    },
    "kernelspec": {
      "name": "python3",
      "display_name": "Python 3"
    },
    "language_info": {
      "name": "python"
    }
  },
  "cells": [
    {
      "cell_type": "markdown",
      "metadata": {
        "id": "view-in-github",
        "colab_type": "text"
      },
      "source": [
        "<a href=\"https://colab.research.google.com/github/agungibr/laporan-praktek/blob/main/Pertemuan8.ipynb\" target=\"_parent\"><img src=\"https://colab.research.google.com/assets/colab-badge.svg\" alt=\"Open In Colab\"/></a>"
      ]
    },
    {
      "cell_type": "code",
      "execution_count": 3,
      "metadata": {
        "colab": {
          "base_uri": "https://localhost:8080/"
        },
        "id": "ul0POwOvlEsx",
        "outputId": "624d39ee-4c19-431e-bc6e-d8647b8fe2dc"
      },
      "outputs": [
        {
          "output_type": "stream",
          "name": "stdout",
          "text": [
            "[1. 2. 3. 4.]\n",
            "<class 'numpy.ndarray'>\n"
          ]
        }
      ],
      "source": [
        "import numpy as np\n",
        "array = np.array([3,6,9,12])\n",
        "\n",
        "pembagian = array/3\n",
        "\n",
        "print(pembagian)\n",
        "\n",
        "print(type(pembagian))"
      ]
    },
    {
      "cell_type": "code",
      "source": [
        "list = [3,6,9,12]\n",
        "\n",
        "division = list/3"
      ],
      "metadata": {
        "colab": {
          "base_uri": "https://localhost:8080/",
          "height": 211
        },
        "id": "U-_G1cXknm12",
        "outputId": "d3ff938b-45bb-4925-e70e-0cdc92077d6f"
      },
      "execution_count": 5,
      "outputs": [
        {
          "output_type": "error",
          "ename": "TypeError",
          "evalue": "ignored",
          "traceback": [
            "\u001b[0;31m---------------------------------------------------------------------------\u001b[0m",
            "\u001b[0;31mTypeError\u001b[0m                                 Traceback (most recent call last)",
            "\u001b[0;32m<ipython-input-5-602b48bf7f8b>\u001b[0m in \u001b[0;36m<cell line: 3>\u001b[0;34m()\u001b[0m\n\u001b[1;32m      1\u001b[0m \u001b[0mlist\u001b[0m \u001b[0;34m=\u001b[0m \u001b[0;34m[\u001b[0m\u001b[0;36m3\u001b[0m\u001b[0;34m,\u001b[0m\u001b[0;36m6\u001b[0m\u001b[0;34m,\u001b[0m\u001b[0;36m9\u001b[0m\u001b[0;34m,\u001b[0m\u001b[0;36m12\u001b[0m\u001b[0;34m]\u001b[0m\u001b[0;34m\u001b[0m\u001b[0;34m\u001b[0m\u001b[0m\n\u001b[1;32m      2\u001b[0m \u001b[0;34m\u001b[0m\u001b[0m\n\u001b[0;32m----> 3\u001b[0;31m \u001b[0mdivision\u001b[0m \u001b[0;34m=\u001b[0m \u001b[0mlist\u001b[0m\u001b[0;34m/\u001b[0m\u001b[0;36m3\u001b[0m\u001b[0;34m\u001b[0m\u001b[0;34m\u001b[0m\u001b[0m\n\u001b[0m",
            "\u001b[0;31mTypeError\u001b[0m: unsupported operand type(s) for /: 'list' and 'int'"
          ]
        }
      ]
    },
    {
      "cell_type": "code",
      "source": [
        "buah = [\"pisang\",\"mangga\",\"Jeruk\",\"Durian\",\"Semangka\"]\n",
        "\n",
        "#cara lain untuk menampilkan array\n",
        "print(buah)\n",
        "\n",
        "buah[4] = \"Melon\"\n",
        "print(buah)\n",
        "\n",
        "buah.append('anggur')#tambah list\n",
        "print(buah)\n",
        "\n",
        "buah.insert(3, 'lemon')\n",
        "print(buah)\n",
        "\n",
        "buah.remove('lemon')\n",
        "print(buah)"
      ],
      "metadata": {
        "colab": {
          "base_uri": "https://localhost:8080/"
        },
        "id": "nV35ppHZnu1S",
        "outputId": "2de4e4de-04c4-404c-90f0-6ba82f87b854"
      },
      "execution_count": 7,
      "outputs": [
        {
          "output_type": "stream",
          "name": "stdout",
          "text": [
            "['pisang', 'mangga', 'Jeruk', 'Durian', 'Semangka']\n",
            "['pisang', 'mangga', 'Jeruk', 'Durian', 'Melon']\n",
            "['pisang', 'mangga', 'Jeruk', 'Durian', 'Melon', 'anggur']\n"
          ]
        }
      ]
    },
    {
      "cell_type": "code",
      "source": [
        "reptile = [\"buaya\",\"biawak\",\"ular\",\"kura-kura\",\"komodo\"]\n",
        "\n",
        "#cara lain untuk menampilkan array\n",
        "print(reptile)\n",
        "\n",
        "reptile[4] = \"penyu\"\n",
        "print(reptile)\n",
        "\n",
        "reptile.append('kadal')#tambah list\n",
        "print(reptile)\n",
        "\n",
        "reptile.insert(3, 'aligator')\n",
        "print(reptile)\n",
        "\n",
        "reptile.remove('aligator')\n",
        "print(reptile)"
      ],
      "metadata": {
        "colab": {
          "base_uri": "https://localhost:8080/"
        },
        "id": "NgvJ-wZXoQUl",
        "outputId": "725e2d91-0f40-40fd-e76d-d6e317c501e4"
      },
      "execution_count": 13,
      "outputs": [
        {
          "output_type": "stream",
          "name": "stdout",
          "text": [
            "['buaya', 'biawak', 'ular', 'kura-kura', 'komodo']\n",
            "['buaya', 'biawak', 'ular', 'kura-kura', 'penyu']\n",
            "['buaya', 'biawak', 'ular', 'kura-kura', 'penyu', 'kadal']\n",
            "['buaya', 'biawak', 'ular', 'aligator', 'kura-kura', 'penyu', 'kadal']\n",
            "['buaya', 'biawak', 'ular', 'kura-kura', 'penyu', 'kadal']\n"
          ]
        }
      ]
    },
    {
      "cell_type": "code",
      "source": [
        "buah1 = ['melon','apel','jeruk']\n",
        "buah2 = ['semangka','lemon','kucing']\n",
        "\n",
        "buah1.extend(buah2) #menggabungkan list\n",
        "print(buah1)\n",
        "\n",
        "buah1.pop(-1) #menghapus index terakhir\n",
        "print(buah1)"
      ],
      "metadata": {
        "colab": {
          "base_uri": "https://localhost:8080/"
        },
        "id": "jjzvDmf9pwWa",
        "outputId": "784358f1-1ab1-43eb-8dd8-60af2270af56"
      },
      "execution_count": 14,
      "outputs": [
        {
          "output_type": "stream",
          "name": "stdout",
          "text": [
            "['melon', 'apel', 'jeruk', 'semangka', 'lemon', 'kucing']\n",
            "['melon', 'apel', 'jeruk', 'semangka', 'lemon']\n"
          ]
        }
      ]
    },
    {
      "cell_type": "code",
      "source": [
        "hewan2 = ['ayam','burung','kangguru']\n",
        "hewan4 = ['babi','kambing','anjing']\n",
        "\n",
        "hewan2.extend(hewan4) #menggabungkan list\n",
        "print(hewan2)\n",
        "\n",
        "hewan2.pop(-1) #menghapus index terakhir\n",
        "print(hewan2)"
      ],
      "metadata": {
        "colab": {
          "base_uri": "https://localhost:8080/"
        },
        "id": "SoNV1E8_qn7-",
        "outputId": "fcf50478-2400-4236-d317-d24744bf3fd1"
      },
      "execution_count": 15,
      "outputs": [
        {
          "output_type": "stream",
          "name": "stdout",
          "text": [
            "['ayam', 'burung', 'kangguru', 'sapi', 'kambing', 'anjing']\n",
            "['ayam', 'burung', 'kangguru', 'sapi', 'kambing']\n"
          ]
        }
      ]
    },
    {
      "cell_type": "code",
      "source": [
        "lkosong = ['dimana',\"jum'at\",'kosong','lebih','anggur','kosong']\n",
        "\n",
        "lada = lkosong.copy()\n",
        "\n",
        "lkosong.clear() #kosongkan list\n",
        "\n",
        "lkosong.count('kosong') #hitung kosong keluar berapa kali\n",
        "print(lkosong)\n",
        "print(lada)"
      ],
      "metadata": {
        "colab": {
          "base_uri": "https://localhost:8080/"
        },
        "id": "6Bf_x2Vzq_-E",
        "outputId": "0744dd82-ef3e-470a-bd88-5746c9864efd"
      },
      "execution_count": 16,
      "outputs": [
        {
          "output_type": "stream",
          "name": "stdout",
          "text": [
            "[]\n",
            "['dimana', \"jum'at\", 'kosong', 'lebih', 'anggur', 'kosong']\n"
          ]
        }
      ]
    },
    {
      "cell_type": "code",
      "source": [
        "lkosong = ['kangkung','sawi','kosong','bayam','seledri','kosong']\n",
        "\n",
        "jahe = lkosong.copy()\n",
        "\n",
        "lkosong.clear() #kosongkan list\n",
        "\n",
        "lkosong.count('kosong') #hitung kosong keluar berapa kali\n",
        "print(lkosong)\n",
        "print(jahe)"
      ],
      "metadata": {
        "colab": {
          "base_uri": "https://localhost:8080/"
        },
        "id": "Ynte8E4or_kJ",
        "outputId": "f49e8fda-62c9-48a3-9be5-e45156b10e3d"
      },
      "execution_count": 22,
      "outputs": [
        {
          "output_type": "stream",
          "name": "stdout",
          "text": [
            "[]\n",
            "['kangkung', 'sawi', 'kosong', 'bayam', 'seledri', 'kosong']\n"
          ]
        }
      ]
    },
    {
      "cell_type": "code",
      "source": [
        "angka = [14,7,2,54,32,56,77,21,53,80]\n",
        "target = int(input(\"Cari angka berapa: \"))\n",
        "cari = False\n",
        "\n",
        "for i in range(len(angka)):\n",
        "  cari = angka[i] == target\n",
        "  if cari:\n",
        "    break\n",
        "\n",
        "if cari:\n",
        "  print(\"Angka berada pada index ke \", i)\n",
        "else :\n",
        "  print(\"Angka tidak ditemukan\")"
      ],
      "metadata": {
        "colab": {
          "base_uri": "https://localhost:8080/"
        },
        "id": "NI0wi5XKsYE-",
        "outputId": "03285668-c682-4d2d-e816-d741da082f63"
      },
      "execution_count": 26,
      "outputs": [
        {
          "output_type": "stream",
          "name": "stdout",
          "text": [
            "Cari angka berapa: 2\n",
            "Angka berada pada index ke  2\n"
          ]
        }
      ]
    }
  ]
}