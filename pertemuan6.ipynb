{
  "nbformat": 4,
  "nbformat_minor": 0,
  "metadata": {
    "colab": {
      "provenance": [],
      "authorship_tag": "ABX9TyN9KrPALwzqqjVB4PjQZ6ak",
      "include_colab_link": true
    },
    "kernelspec": {
      "name": "python3",
      "display_name": "Python 3"
    },
    "language_info": {
      "name": "python"
    }
  },
  "cells": [
    {
      "cell_type": "markdown",
      "metadata": {
        "id": "view-in-github",
        "colab_type": "text"
      },
      "source": [
        "<a href=\"https://colab.research.google.com/github/agungibr/laporan-praktek/blob/main/pertemuan6.ipynb\" target=\"_parent\"><img src=\"https://colab.research.google.com/assets/colab-badge.svg\" alt=\"Open In Colab\"/></a>"
      ]
    },
    {
      "cell_type": "code",
      "execution_count": 4,
      "metadata": {
        "colab": {
          "base_uri": "https://localhost:8080/"
        },
        "id": "kBTQ6bc0Y9Io",
        "outputId": "f07dbf9f-d869-4210-bc7a-26d5cec87781"
      },
      "outputs": [
        {
          "output_type": "stream",
          "name": "stdout",
          "text": [
            "perulangan ke- 0\n",
            "perulangan ke- 1\n",
            "perulangan ke- 2\n",
            "perulangan ke- 3\n",
            "perulangan ke- 4\n",
            "perulangan ke- 5\n",
            "perulangan ke- 6\n",
            "perulangan ke- 7\n",
            "perulangan ke- 8\n",
            "perulangan ke- 9\n"
          ]
        }
      ],
      "source": [
        "ulang = 10\n",
        "\n",
        "for i in range (ulang):\n",
        "  print(\"perulangan ke-\", i)"
      ]
    },
    {
      "cell_type": "code",
      "source": [
        "for i in range(1, 10, 2):\n",
        "  print(i)"
      ],
      "metadata": {
        "colab": {
          "base_uri": "https://localhost:8080/"
        },
        "id": "xWR4w35OZ-bQ",
        "outputId": "8e50b7fa-3caf-47d5-b8aa-c40c5c97c2ef"
      },
      "execution_count": 7,
      "outputs": [
        {
          "output_type": "stream",
          "name": "stdout",
          "text": [
            "1\n",
            "3\n",
            "5\n",
            "7\n",
            "9\n"
          ]
        }
      ]
    },
    {
      "cell_type": "code",
      "source": [
        "#menggunakan start dan stop\n",
        "for i in range(1, 10):\n",
        "  print(i, end=' ')\n",
        "\n",
        "print()\n",
        "\n",
        "#menggunakan start dan stop default\n",
        "for i in range(10):\n",
        "  print(i, end=' ')\n",
        "\n",
        "print()\n",
        "\n",
        "#menggunakan start, stop dan step bersamaan\n",
        "for i in range (1, 15, 3):\n",
        "  print(i, end=' ')\n",
        "\n",
        "print()"
      ],
      "metadata": {
        "colab": {
          "base_uri": "https://localhost:8080/"
        },
        "id": "_afZRAQzaNeL",
        "outputId": "212cb7dc-8cc7-4597-98c6-d12cddcafe97"
      },
      "execution_count": 9,
      "outputs": [
        {
          "output_type": "stream",
          "name": "stdout",
          "text": [
            "1 2 3 4 5 6 7 8 9 \n",
            "0 1 2 3 4 5 6 7 8 9 \n",
            "1 4 7 10 13 \n"
          ]
        }
      ]
    },
    {
      "cell_type": "code",
      "source": [
        "jawab = 'ya'\n",
        "hitung = 0\n",
        "\n",
        "while(jawab == 'ya'):\n",
        "  hitung += 1\n",
        "  jawab = input(\"Ulang lagi tidak? \")\n",
        "print(\"Total perulangan: \", hitung)"
      ],
      "metadata": {
        "colab": {
          "base_uri": "https://localhost:8080/"
        },
        "id": "EyMHnc_YbDp8",
        "outputId": "2b3abdff-39cb-4a93-8619-b7e99d3d6d11"
      },
      "execution_count": 10,
      "outputs": [
        {
          "output_type": "stream",
          "name": "stdout",
          "text": [
            "Ulang lagi tidak? ya\n",
            "Ulang lagi tidak? tidak\n",
            "Total perulangan:  2\n"
          ]
        }
      ]
    },
    {
      "cell_type": "code",
      "source": [
        "while True:\n",
        "  reply = input('Enter text, [type \"stop\" to quit]: ')\n",
        "  if reply == 'stop':\n",
        "    break\n",
        "  print(reply.lower())"
      ],
      "metadata": {
        "colab": {
          "base_uri": "https://localhost:8080/"
        },
        "id": "WyiBRX3IbRkJ",
        "outputId": "d023f2c6-6b18-499c-c9e9-b80c222e7462"
      },
      "execution_count": 11,
      "outputs": [
        {
          "name": "stdout",
          "output_type": "stream",
          "text": [
            "Enter text, [type \"stop\" to quit]: start\n",
            "start\n",
            "Enter text, [type \"stop\" to quit]: stop\n"
          ]
        }
      ]
    },
    {
      "cell_type": "code",
      "source": [
        "x = 0\n",
        "while True:\n",
        "  nama = input(\"Masukkan Nama: \")\n",
        "  print(\"Nama anda adalah: \", nama)\n",
        "  x += 1\n",
        "  if x == 5:\n",
        "    break"
      ],
      "metadata": {
        "colab": {
          "base_uri": "https://localhost:8080/"
        },
        "id": "1JoCQ59JbjdP",
        "outputId": "8d33617e-a7b5-4850-8af7-2f75fadfe81c"
      },
      "execution_count": 12,
      "outputs": [
        {
          "output_type": "stream",
          "name": "stdout",
          "text": [
            "Masukkan Nama: Agung\n",
            "Nama anda adalah:  Agung\n",
            "Masukkan Nama: agung\n",
            "Nama anda adalah:  agung\n",
            "Masukkan Nama: agung\n",
            "Nama anda adalah:  agung\n",
            "Masukkan Nama: agung\n",
            "Nama anda adalah:  agung\n",
            "Masukkan Nama: agung\n",
            "Nama anda adalah:  agung\n"
          ]
        }
      ]
    },
    {
      "cell_type": "code",
      "source": [
        "for i in range(30):\n",
        "  print(i)\n",
        "  if i == 20:\n",
        "    break"
      ],
      "metadata": {
        "colab": {
          "base_uri": "https://localhost:8080/"
        },
        "id": "eRqMAj6gbzBy",
        "outputId": "20986e34-7ac9-4284-d203-1424165e3f1d"
      },
      "execution_count": 14,
      "outputs": [
        {
          "output_type": "stream",
          "name": "stdout",
          "text": [
            "0\n",
            "1\n",
            "2\n",
            "3\n",
            "4\n",
            "5\n",
            "6\n",
            "7\n",
            "8\n",
            "9\n",
            "10\n",
            "11\n",
            "12\n",
            "13\n",
            "14\n",
            "15\n",
            "16\n",
            "17\n",
            "18\n",
            "19\n",
            "20\n"
          ]
        }
      ]
    },
    {
      "cell_type": "code",
      "source": [
        "i = 0\n",
        "while (i<8):\n",
        "  i+=1\n",
        "  if(i==6):\n",
        "    continue\n",
        "  print(i, end=' ')\n",
        "print()"
      ],
      "metadata": {
        "colab": {
          "base_uri": "https://localhost:8080/"
        },
        "id": "sU6CD_yZb8lC",
        "outputId": "203f2a82-4516-4c56-cead-c2b0a0c7b5e5"
      },
      "execution_count": 15,
      "outputs": [
        {
          "output_type": "stream",
          "name": "stdout",
          "text": [
            "1 2 3 4 5 7 8 \n"
          ]
        }
      ]
    },
    {
      "cell_type": "code",
      "source": [
        "data = [1,2,3,4,5,]\n",
        "\n",
        "for i in data:\n",
        "  pass"
      ],
      "metadata": {
        "id": "tJAf_AWccKiS"
      },
      "execution_count": 16,
      "outputs": []
    },
    {
      "cell_type": "code",
      "source": [
        "data = [1, 2, 'tiga', 4, 'lima', 'enam', 7, 8.2, 9.3, 'sepuluh']\n",
        "\n",
        "batas = len(data)\n",
        "\n",
        "for i in range(batas):\n",
        "  print(\"data indeks ke\", i,\"adalah\", data[i])"
      ],
      "metadata": {
        "colab": {
          "base_uri": "https://localhost:8080/"
        },
        "id": "idy3jxy3cTXQ",
        "outputId": "4dd5a7d5-74b6-40d7-b830-6d0761e2cd7f"
      },
      "execution_count": 23,
      "outputs": [
        {
          "output_type": "stream",
          "name": "stdout",
          "text": [
            "data indeks ke 0 adalah 1\n",
            "data indeks ke 1 adalah 2\n",
            "data indeks ke 2 adalah tiga\n",
            "data indeks ke 3 adalah 4\n",
            "data indeks ke 4 adalah lima\n",
            "data indeks ke 5 adalah enam\n",
            "data indeks ke 6 adalah 7\n",
            "data indeks ke 7 adalah 8.2\n",
            "data indeks ke 8 adalah 9.3\n",
            "data indeks ke 9 adalah sepuluh\n"
          ]
        }
      ]
    },
    {
      "cell_type": "code",
      "source": [
        "data = [1, 2, 3, 4, 5, 6, 7, 8, 9, 10]\n",
        "\n",
        "for i in data:\n",
        "  if i % 2 == 0:\n",
        "    print(i, \"adalah bilangan genap\")\n",
        "  else:\n",
        "    print(i, \"adalah bilangan ganjil\")"
      ],
      "metadata": {
        "colab": {
          "base_uri": "https://localhost:8080/"
        },
        "id": "oq5Ig2-pc4ny",
        "outputId": "52b4b6b9-cf6e-4bd5-bd65-4acee0b32540"
      },
      "execution_count": 24,
      "outputs": [
        {
          "output_type": "stream",
          "name": "stdout",
          "text": [
            "1 adalah bilangan ganjil\n",
            "2 adalah bilangan genap\n",
            "3 adalah bilangan ganjil\n",
            "4 adalah bilangan genap\n",
            "5 adalah bilangan ganjil\n",
            "6 adalah bilangan genap\n",
            "7 adalah bilangan ganjil\n",
            "8 adalah bilangan genap\n",
            "9 adalah bilangan ganjil\n",
            "10 adalah bilangan genap\n"
          ]
        }
      ]
    },
    {
      "cell_type": "code",
      "source": [
        "nilai = 54\n",
        "\n",
        "while True:\n",
        "  n = int(input(\"Masukan nilai: \"))\n",
        "  if n == nilai:\n",
        "    print(\"inputan benar\")\n",
        "    break\n",
        "  print(\"inputan salah\")"
      ],
      "metadata": {
        "colab": {
          "base_uri": "https://localhost:8080/"
        },
        "id": "voraG7wkdJ68",
        "outputId": "812bb3fd-1a2e-4d3a-8a23-26c7d04bb9dc"
      },
      "execution_count": 25,
      "outputs": [
        {
          "output_type": "stream",
          "name": "stdout",
          "text": [
            "Masukan nilai: 54\n",
            "inputan benar\n"
          ]
        }
      ]
    },
    {
      "cell_type": "code",
      "source": [
        "lines = list()\n",
        "testAnswer = input(\"Press 'y' if you want to enter more lines: \")\n",
        "while testAnswer == 'y':\n",
        "  line = input('Next line: ')\n",
        "  lines.append(line)\n",
        "  testAnswer = input(\"Press 'y' if you want to enter more lines: \")\n",
        "\n",
        "print('Your lines were: ')\n",
        "for line in lines:\n",
        "  print(line)"
      ],
      "metadata": {
        "colab": {
          "base_uri": "https://localhost:8080/"
        },
        "id": "Gd-fsvOydcoi",
        "outputId": "ae2143d8-dda1-48d4-a808-ee9b5de79f96"
      },
      "execution_count": 27,
      "outputs": [
        {
          "output_type": "stream",
          "name": "stdout",
          "text": [
            "Press 'y' if you want to enter more lines: y\n",
            "Next line: p\n",
            "Press 'y' if you want to enter more lines: p\n",
            "Your lines were: \n",
            "p\n"
          ]
        }
      ]
    }
  ]
}