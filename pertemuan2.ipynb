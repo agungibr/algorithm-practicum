{
  "nbformat": 4,
  "nbformat_minor": 0,
  "metadata": {
    "colab": {
      "provenance": [],
      "authorship_tag": "ABX9TyNjoEA4McdwVcoWQkEjQtxZ",
      "include_colab_link": true
    },
    "kernelspec": {
      "name": "python3",
      "display_name": "Python 3"
    },
    "language_info": {
      "name": "python"
    }
  },
  "cells": [
    {
      "cell_type": "markdown",
      "metadata": {
        "id": "view-in-github",
        "colab_type": "text"
      },
      "source": [
        "<a href=\"https://colab.research.google.com/github/agungibr/laporan-praktek/blob/main/pertemuan2.ipynb\" target=\"_parent\"><img src=\"https://colab.research.google.com/assets/colab-badge.svg\" alt=\"Open In Colab\"/></a>"
      ]
    },
    {
      "cell_type": "code",
      "source": [
        "# Ini adalah komentar\n",
        "# Komentar 1\n",
        "# Komentar 2\n",
        "# Komentar 3"
      ],
      "metadata": {
        "id": "UUD9F3xuKgAY"
      },
      "execution_count": null,
      "outputs": []
    },
    {
      "cell_type": "code",
      "source": [
        "print (\"komentar 1 baris menggunakan tanda #\")"
      ],
      "metadata": {
        "colab": {
          "base_uri": "https://localhost:8080/"
        },
        "id": "61runFDkRbTK",
        "outputId": "e84f16a9-f693-4423-e1a3-09d7f2df4d55"
      },
      "execution_count": null,
      "outputs": [
        {
          "output_type": "stream",
          "name": "stdout",
          "text": [
            "komentar 1 baris menggunakan tanda #\n"
          ]
        }
      ]
    },
    {
      "cell_type": "code",
      "source": [
        "\"\"\"jika ingin menggunakan komentar dengan banyak baris\n",
        "bisa menggunakna petik 2\n",
        "diawali petik 2 tiga kali\n",
        "dan\n",
        "diakhiri petik 2 tiga kali juga\"\"\""
      ],
      "metadata": {
        "colab": {
          "base_uri": "https://localhost:8080/",
          "height": 53
        },
        "id": "dQ2gInVXRiW5",
        "outputId": "3a88eb0a-4376-4be8-bea3-948c979ed5e8"
      },
      "execution_count": null,
      "outputs": [
        {
          "output_type": "execute_result",
          "data": {
            "text/plain": [
              "'jika ingin menggunakan komentar dengan banyak baris \\nbisa menggunakna petik 2\\ndiawali petik 2 tiga kali\\ndan\\ndiakhiri petik 2 tiga kali juga'"
            ],
            "application/vnd.google.colaboratory.intrinsic+json": {
              "type": "string"
            }
          },
          "metadata": {},
          "execution_count": 12
        }
      ]
    },
    {
      "cell_type": "code",
      "source": [
        "print(\"kometar dengan banyak\")"
      ],
      "metadata": {
        "colab": {
          "base_uri": "https://localhost:8080/"
        },
        "id": "01wVrk16R0dJ",
        "outputId": "71a3d864-e8eb-4531-ff68-5bd5c55cb10f"
      },
      "execution_count": null,
      "outputs": [
        {
          "output_type": "stream",
          "name": "stdout",
          "text": [
            "kometar dengan banyak\n"
          ]
        }
      ]
    },
    {
      "cell_type": "code",
      "source": [
        "print(11,22,33)\n",
        "\n",
        "print(\"Belajar membuat komputer dalam python\")\n",
        "\n",
        "prodi = \"S1 Sains Data\"\n",
        "kampus = \"Institut Teknologi Telkom Purwokerto\"\n",
        "\n",
        "print(\"Program Studi: \", prodi, kampus)"
      ],
      "metadata": {
        "colab": {
          "base_uri": "https://localhost:8080/"
        },
        "id": "DzRk7DfwR_wR",
        "outputId": "89ccda80-ab27-4f3d-a293-4c683cca75a6"
      },
      "execution_count": null,
      "outputs": [
        {
          "output_type": "stream",
          "name": "stdout",
          "text": [
            "11 22 33\n",
            "Belajar membuat komputer dalam python\n",
            "Program Studi:  S1 Sains Data Institut Teknologi Telkom Purwokerto\n"
          ]
        }
      ]
    },
    {
      "cell_type": "code",
      "source": [
        "# Tambahkan potongan kode berikut\n",
        "# Menggunakan parameter sep= \"\" dan end=\"\"\n",
        "\n",
        "print(\"Purwokerto\", \"Banyumas\", \"Jawa Tengah\", sep=\"-\")\n",
        "print(\"30\", \"Maret\", \"Jawa 1950\", sep=\"/\")\n",
        "print(\"Purwokerto\", \"Banyumas\", \"Jawa Tengah\", sep=\"***\")\n",
        "print(\"Republik\",  end=\" \")\n",
        "print(\"Indonesia\")"
      ],
      "metadata": {
        "colab": {
          "base_uri": "https://localhost:8080/"
        },
        "id": "AZXfGVDiSWe7",
        "outputId": "796b3718-da6d-4220-87e1-c7b0e18d5abc"
      },
      "execution_count": null,
      "outputs": [
        {
          "output_type": "stream",
          "name": "stdout",
          "text": [
            "Purwokerto-Banyumas-Jawa Tengah\n",
            "30/Maret/Jawa 1950\n",
            "Purwokerto***Banyumas***Jawa Tengah\n",
            "Republik Indonesia\n"
          ]
        }
      ]
    },
    {
      "cell_type": "code",
      "source": [
        "print(\"Purwokerto\", \"Banyumas\", \"Jawa Tengah\", sep=\"#\", end=\"&\\n\")\n",
        "print(\"Purwokerto\", \"Banyumas\", \"Jawa Tengah\", end=\" \")\n",
        "print(\"77 tahun\")"
      ],
      "metadata": {
        "colab": {
          "base_uri": "https://localhost:8080/"
        },
        "id": "lRaPK0gtTCVP",
        "outputId": "1c8ba94e-4002-4f10-e12d-fcc25698ff0e"
      },
      "execution_count": null,
      "outputs": [
        {
          "output_type": "stream",
          "name": "stdout",
          "text": [
            "Purwokerto#Banyumas#Jawa Tengah&\n",
            "Purwokerto Banyumas Jawa Tengah 77 tahun\n"
          ]
        }
      ]
    },
    {
      "cell_type": "code",
      "source": [
        "# FUngsi input tanpa prompt\n",
        "kota = input()\n",
        "print(\"Nama kota : \", kota)\n"
      ],
      "metadata": {
        "colab": {
          "base_uri": "https://localhost:8080/"
        },
        "id": "AYKs50k6TZEJ",
        "outputId": "ccb3e14a-5d89-496d-9ae8-5660f5ab7058"
      },
      "execution_count": null,
      "outputs": [
        {
          "output_type": "stream",
          "name": "stdout",
          "text": [
            "Purwokerto\n",
            "Nama kota :  Purwokerto\n"
          ]
        }
      ]
    },
    {
      "cell_type": "code",
      "source": [
        "# Fungsi input dengan prompt\n",
        "Alamat = input(\"Masukan alamat domisili : \")\n",
        "print(\"Alamat domisili saya adalah: \", Alamat)"
      ],
      "metadata": {
        "colab": {
          "base_uri": "https://localhost:8080/"
        },
        "id": "LH1clGmpTi1M",
        "outputId": "5a813dfe-2500-4671-a3a7-d98591e514df"
      },
      "execution_count": null,
      "outputs": [
        {
          "output_type": "stream",
          "name": "stdout",
          "text": [
            "Masukan alamat domisili : Kembaran\n",
            "Alamat domisili saya adalah:  Kembaran\n"
          ]
        }
      ]
    },
    {
      "cell_type": "code",
      "source": [
        "print(float(60))\n",
        "print(int(5.8967))"
      ],
      "metadata": {
        "colab": {
          "base_uri": "https://localhost:8080/"
        },
        "id": "EfbeKBeXT7WP",
        "outputId": "dbe5a4c9-4801-416f-e855-a56d7ce025ad"
      },
      "execution_count": null,
      "outputs": [
        {
          "output_type": "stream",
          "name": "stdout",
          "text": [
            "60.0\n",
            "5\n"
          ]
        }
      ]
    },
    {
      "cell_type": "code",
      "source": [
        "# Operasi matematika sederhana penambahan dua bilangan\n",
        "angka1 = input(\"Masukan angka pertama : \")\n",
        "angka2 = input(\"Masukan angka kedua : \")\n",
        "hasil = angka1 + angka2\n",
        "print(\"Hasil penjumlahan\", angka1, \"dan\", angka2, \"adalah\", hasil)"
      ],
      "metadata": {
        "colab": {
          "base_uri": "https://localhost:8080/"
        },
        "id": "Syrlp_AyUQ0F",
        "outputId": "448b5fef-99ed-4b99-b305-ab1d8e9170cd"
      },
      "execution_count": null,
      "outputs": [
        {
          "output_type": "stream",
          "name": "stdout",
          "text": [
            "Masukan angka pertama : 1\n",
            "Masukan angka kedua : 2\n",
            "Hasil penjumlahan 1 dan 2 adalah 12\n"
          ]
        }
      ]
    },
    {
      "cell_type": "code",
      "source": [
        "#Operasi matematika sederhana penambahan dua bilangan\n",
        "angka1 = int(input(\"Masukan angka pertama : \"))\n",
        "angka2 = int(input(\"Masukan angka kedua : \"))\n",
        "hasil = int(angka1) + int(angka2)\n",
        "print(\"Hasil penjumlahan\", angka1, \"dan\", angka2, \"adalah\", hasil)"
      ],
      "metadata": {
        "colab": {
          "base_uri": "https://localhost:8080/"
        },
        "id": "JWZSnoLoUr3E",
        "outputId": "a1b3fb08-0b32-4638-e7cc-bacf73d32b6a"
      },
      "execution_count": null,
      "outputs": [
        {
          "output_type": "stream",
          "name": "stdout",
          "text": [
            "Masukan angka pertama : 1\n",
            "Masukan angka kedua : 2\n",
            "Hasil penjumlahan 1 dan 2 adalah 3\n"
          ]
        }
      ]
    },
    {
      "cell_type": "code",
      "source": [],
      "metadata": {
        "id": "HIi74wMHU7-U"
      },
      "execution_count": null,
      "outputs": []
    }
  ]
}