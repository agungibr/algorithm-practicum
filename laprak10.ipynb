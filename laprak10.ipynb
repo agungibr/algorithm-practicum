{
  "nbformat": 4,
  "nbformat_minor": 0,
  "metadata": {
    "colab": {
      "provenance": [],
      "authorship_tag": "ABX9TyODEJlLls4eZ7clQUx77S/i",
      "include_colab_link": true
    },
    "kernelspec": {
      "name": "python3",
      "display_name": "Python 3"
    },
    "language_info": {
      "name": "python"
    }
  },
  "cells": [
    {
      "cell_type": "markdown",
      "metadata": {
        "id": "view-in-github",
        "colab_type": "text"
      },
      "source": [
        "<a href=\"https://colab.research.google.com/github/agungibr/algorithm-practicum/blob/main/laprak10.ipynb\" target=\"_parent\"><img src=\"https://colab.research.google.com/assets/colab-badge.svg\" alt=\"Open In Colab\"/></a>"
      ]
    },
    {
      "cell_type": "markdown",
      "source": [
        "1. Buatlah sebuah program yang dapat mencari dan menampilkan suatu bilangan yang\n",
        "dicari beserta indexnya dengan ketentuan sebagai berikut :\n",
        "Isi array : 12, 14, 15, 12, 5\n",
        "Data yang dicari : 12"
      ],
      "metadata": {
        "id": "BvXe1017wS-z"
      }
    },
    {
      "cell_type": "code",
      "execution_count": null,
      "metadata": {
        "colab": {
          "base_uri": "https://localhost:8080/"
        },
        "id": "4TqXgCpNxOPy",
        "outputId": "32c1ac81-cad1-4a1b-f46a-c308d895dcbb"
      },
      "outputs": [
        {
          "output_type": "stream",
          "name": "stdout",
          "text": [
            "Masukkan Bilangan: 12\n",
            "Data 12 ditemukan pada indeks: 0, 3\n"
          ]
        }
      ],
      "source": [
        "List = [12, 14, 15, 12, 5]\n",
        "\n",
        "angka = int(input(\"Masukkan Bilangan: \"))\n",
        "\n",
        "def search(List, bilangan):\n",
        "    indeks = []\n",
        "    for i in range(len(List)):\n",
        "        if List[i] == bilangan:\n",
        "            indeks.append(i)\n",
        "    return indeks\n",
        "\n",
        "result = search(List, angka)\n",
        "\n",
        "if result:\n",
        "    print(\"Data\", angka, \"ditemukan pada indeks:\", end=\" \")\n",
        "    for idx in range(len(result)):\n",
        "        if idx == len(result) - 1:\n",
        "            print(result[idx])\n",
        "        else:\n",
        "            print(result[idx], end=\", \")\n",
        "else:\n",
        "    print(\"Data\", angka, \"tidak ditemukan dalam array.\")"
      ]
    },
    {
      "cell_type": "markdown",
      "source": [
        "2. Buatlah sebuah program dengan binary search yang dapat mencari dan menampilkan\n",
        "suatu bilangan yang dicari beserta indexnya dengan ketentuan sebagai berikut :\n",
        "Data : 11, 13, 15, 18, 23, 27, 29, 31, 54, 58, 59, 61\n",
        "Data yang dicari : 13"
      ],
      "metadata": {
        "id": "hcHFNyDvdt1l"
      }
    },
    {
      "cell_type": "code",
      "source": [
        "List = [11, 13, 15, 18, 23, 27, 29, 31, 54, 58, 59, 61]\n",
        "\n",
        "angka = int(input(\"Masukkan Bilangan: \"))\n",
        "\n",
        "def searchNumber(List, angka):\n",
        "    lastIndex, firstIndex = 0, len(List) - 1\n",
        "\n",
        "    while lastIndex <= firstIndex:\n",
        "        middleIndex = (lastIndex + firstIndex) // 2\n",
        "        mid_number = List[middleIndex]\n",
        "\n",
        "        if mid_number == angka:\n",
        "            return middleIndex\n",
        "        elif mid_number < angka:\n",
        "            lastIndex = middleIndex + 1\n",
        "        else:\n",
        "            firstIndex = middleIndex - 1\n",
        "\n",
        "    return -1\n",
        "\n",
        "index = searchNumber(List, angka)\n",
        "\n",
        "if index != -1:\n",
        "    print(f\"Bilangan {angka} ditemukan pada index {index}.\")\n",
        "else:\n",
        "    print(f\"Bilangan {angka} tidak ditemukan dalam data.\")"
      ],
      "metadata": {
        "id": "yGzrk7Qf01hR",
        "colab": {
          "base_uri": "https://localhost:8080/"
        },
        "outputId": "6cbfda67-7fea-4087-dff2-b20a41aa744c"
      },
      "execution_count": 1,
      "outputs": [
        {
          "output_type": "stream",
          "name": "stdout",
          "text": [
            "Masukkan Bilangan: 13\n",
            "Bilangan 13 ditemukan pada index 1.\n"
          ]
        }
      ]
    }
  ]
}