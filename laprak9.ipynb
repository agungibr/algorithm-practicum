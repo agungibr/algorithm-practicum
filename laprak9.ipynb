{
  "nbformat": 4,
  "nbformat_minor": 0,
  "metadata": {
    "colab": {
      "provenance": [],
      "authorship_tag": "ABX9TyMq5rAlybihr/APoXvMUjAe",
      "include_colab_link": true
    },
    "kernelspec": {
      "name": "python3",
      "display_name": "Python 3"
    },
    "language_info": {
      "name": "python"
    }
  },
  "cells": [
    {
      "cell_type": "markdown",
      "metadata": {
        "id": "view-in-github",
        "colab_type": "text"
      },
      "source": [
        "<a href=\"https://colab.research.google.com/github/agungibr/algorithm-practicum/blob/main/laprak9.ipynb\" target=\"_parent\"><img src=\"https://colab.research.google.com/assets/colab-badge.svg\" alt=\"Open In Colab\"/></a>"
      ]
    },
    {
      "cell_type": "code",
      "execution_count": 1,
      "metadata": {
        "colab": {
          "base_uri": "https://localhost:8080/"
        },
        "id": "lPGKLSZwViQr",
        "outputId": "8aaf2db8-a9b9-4391-ceca-ab284e59366e"
      },
      "outputs": [
        {
          "output_type": "stream",
          "name": "stdout",
          "text": [
            "Nilai Fibonacci untuk indeks ke-30: [0, 1, 1, 2, 3, 5, 8, 13, 21, 34, 55, 89, 144, 233, 377, 610, 987, 1597, 2584, 4181, 6765, 10946, 17711, 28657, 46368, 75025, 121393, 196418, 317811, 514229]\n"
          ]
        }
      ],
      "source": [
        "def fibonacci(n):\n",
        "    if n < 1:\n",
        "        return [n]\n",
        "\n",
        "    list_sebelum_N = fibonacci(n - 1)\n",
        "    angka1 = list_sebelum_N[-2] if len(list_sebelum_N) > 2 else 0\n",
        "    angka2 = list_sebelum_N[-1] if len(list_sebelum_N) > 2 else 1\n",
        "\n",
        "    return list_sebelum_N + [angka1 + angka2]\n",
        "\n",
        "panjang = 30  # Indeks ke-30\n",
        "hasil_fibonacci_30 = fibonacci(panjang - 1)\n",
        "\n",
        "print(f\"Nilai Fibonacci untuk indeks ke-{panjang}: {hasil_fibonacci_30}\")"
      ]
    }
  ]
}