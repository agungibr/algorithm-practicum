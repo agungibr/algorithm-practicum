{
  "nbformat": 4,
  "nbformat_minor": 0,
  "metadata": {
    "colab": {
      "provenance": [],
      "authorship_tag": "ABX9TyNUo8El9Q03jp6N+mdhDqLb",
      "include_colab_link": true
    },
    "kernelspec": {
      "name": "python3",
      "display_name": "Python 3"
    },
    "language_info": {
      "name": "python"
    }
  },
  "cells": [
    {
      "cell_type": "markdown",
      "metadata": {
        "id": "view-in-github",
        "colab_type": "text"
      },
      "source": [
        "<a href=\"https://colab.research.google.com/github/agungibr/algorithm-practicum/blob/main/pertemuan9.ipynb\" target=\"_parent\"><img src=\"https://colab.research.google.com/assets/colab-badge.svg\" alt=\"Open In Colab\"/></a>"
      ]
    },
    {
      "cell_type": "code",
      "execution_count": null,
      "metadata": {
        "colab": {
          "base_uri": "https://localhost:8080/"
        },
        "id": "oblulRIC1hnX",
        "outputId": "c05ec6bf-0362-4d32-ef68-9aadba6244a9"
      },
      "outputs": [
        {
          "output_type": "stream",
          "name": "stdout",
          "text": [
            "IT Telkom Purwokerto\n"
          ]
        }
      ],
      "source": [
        "def kampus():\n",
        "  print(\"IT Telkom Purwokerto\")\n",
        "\n",
        "kampus()"
      ]
    },
    {
      "cell_type": "code",
      "source": [
        "def perhitungan():\n",
        "  angka_1 = 30\n",
        "  angka_2 = 50\n",
        "  penjumlahan = angka_1 + angka_2\n",
        "  return penjumlahan\n",
        "\n",
        "hasil = perhitungan()\n",
        "print(hasil)"
      ],
      "metadata": {
        "colab": {
          "base_uri": "https://localhost:8080/"
        },
        "id": "zCqCY7Wl1qeD",
        "outputId": "9a45d3f0-152b-40cd-a797-ce0810ddb194"
      },
      "execution_count": null,
      "outputs": [
        {
          "output_type": "stream",
          "name": "stdout",
          "text": [
            "80\n"
          ]
        }
      ]
    },
    {
      "cell_type": "code",
      "source": [
        "def jumlah(angka_1, angka_2):\n",
        "  hasil = int(angka_1) + int(angka_2)\n",
        "  return hasil\n",
        "\n",
        "x = jumlah(3, 8)\n",
        "y = jumlah(20, 35)\n",
        "\n",
        "print(x)\n",
        "print(y)"
      ],
      "metadata": {
        "colab": {
          "base_uri": "https://localhost:8080/"
        },
        "id": "-6M4rZef14oO",
        "outputId": "e8f57404-1755-4eaf-f814-ad1586c73aef"
      },
      "execution_count": null,
      "outputs": [
        {
          "output_type": "stream",
          "name": "stdout",
          "text": [
            "11\n",
            "55\n"
          ]
        }
      ]
    },
    {
      "cell_type": "code",
      "source": [
        "x = lambda a: a+ 10\n",
        "print(x(5))"
      ],
      "metadata": {
        "colab": {
          "base_uri": "https://localhost:8080/"
        },
        "id": "oiBIVT6r2N-h",
        "outputId": "8ba9987f-e9c4-4828-8628-951b3120e0d9"
      },
      "execution_count": null,
      "outputs": [
        {
          "output_type": "stream",
          "name": "stdout",
          "text": [
            "15\n"
          ]
        }
      ]
    },
    {
      "cell_type": "code",
      "source": [
        "x = lambda a, b : a * b\n",
        "print(x(5,6))"
      ],
      "metadata": {
        "colab": {
          "base_uri": "https://localhost:8080/"
        },
        "id": "9TsfrwkI2S-E",
        "outputId": "dd9eda67-3ac9-41bd-f1fa-2c5ae6cdbb1f"
      },
      "execution_count": null,
      "outputs": [
        {
          "output_type": "stream",
          "name": "stdout",
          "text": [
            "30\n"
          ]
        }
      ]
    },
    {
      "cell_type": "code",
      "source": [
        "x = lambda a, b, c : a + b + c\n",
        "print(x(7,8,9))"
      ],
      "metadata": {
        "colab": {
          "base_uri": "https://localhost:8080/"
        },
        "id": "lmLCoH8V2byL",
        "outputId": "66cea9ec-78bc-4b41-bf18-60f0de6a70b5"
      },
      "execution_count": null,
      "outputs": [
        {
          "output_type": "stream",
          "name": "stdout",
          "text": [
            "24\n"
          ]
        }
      ]
    },
    {
      "cell_type": "code",
      "source": [
        "angka_1 = 100\n",
        "pi = 3.14\n",
        "\n",
        "def hallo():\n",
        "  print(\"hallo Geografi\")\n",
        "\n",
        "def hitung():\n",
        "  angka_1 = 20\n",
        "  angka_2 = 30\n",
        "  hasil = angka_1 + angka_2\n",
        "  return hasil\n",
        "\n",
        "def tambah(angka_1, angka_2):\n",
        "  hasil = int(angka_1) + int(angka_2)\n",
        "  return hasil\n",
        "\n",
        "def kurang(angka_1, angka_2):\n",
        "  hasil = int(angka_1) - int(angka_2)\n",
        "  return hasil\n",
        "\n",
        "def bagi(angka_1, angka_2):\n",
        "  hasil = int(angka_1) / int(angka_2)\n",
        "  return hasil\n",
        "\n",
        "def kali(angka_1, angka_2):\n",
        "  hasil = int(angka_1) * int(angka_2)\n",
        "  return hasil\n",
        "\n",
        "def luas_persegi_panjang(panjang, lebar):\n",
        "  hasil = panjang * lebar\n",
        "  return hasil"
      ],
      "metadata": {
        "id": "lzHDpznM2kKK"
      },
      "execution_count": null,
      "outputs": []
    },
    {
      "cell_type": "code",
      "source": [
        "from apalah import *\n",
        "print(pi)\n",
        "hallo()"
      ],
      "metadata": {
        "colab": {
          "base_uri": "https://localhost:8080/"
        },
        "id": "7UygPN7q2uQR",
        "outputId": "25cea1a0-1cd1-40f9-99ee-8972dc5739a0"
      },
      "execution_count": null,
      "outputs": [
        {
          "output_type": "stream",
          "name": "stdout",
          "text": [
            "3.14\n",
            "hallo Geografi\n"
          ]
        }
      ]
    },
    {
      "cell_type": "code",
      "source": [
        "from apalah import *\n",
        "print(pi)\n",
        "hallo()\n",
        "\n",
        "bil_1 = input(\"Masukkan bilangan 1: \")\n",
        "bil_2 = input(\"Masukkan bilangan 2: \")\n",
        "\n",
        "print(\"Hasilnya adalah:\", kali(bil_1, bil_2))\n",
        "\n",
        "#segitiga\n",
        "x = luas_segitiga(10, 10)\n",
        "print(x)"
      ],
      "metadata": {
        "colab": {
          "base_uri": "https://localhost:8080/",
          "height": 315
        },
        "id": "YPWSlVph3niQ",
        "outputId": "4f581450-e06c-49cb-aff5-66cce1226ce3"
      },
      "execution_count": null,
      "outputs": [
        {
          "output_type": "stream",
          "name": "stdout",
          "text": [
            "3.14\n",
            "hallo Geografi\n",
            "Masukkan bilangan 1: 9\n",
            "Masukkan bilangan 2: 9\n",
            "Hasilnya adalah: 81\n"
          ]
        },
        {
          "output_type": "error",
          "ename": "NameError",
          "evalue": "ignored",
          "traceback": [
            "\u001b[0;31m---------------------------------------------------------------------------\u001b[0m",
            "\u001b[0;31mNameError\u001b[0m                                 Traceback (most recent call last)",
            "\u001b[0;32m<ipython-input-14-1c3628c502a4>\u001b[0m in \u001b[0;36m<cell line: 11>\u001b[0;34m()\u001b[0m\n\u001b[1;32m      9\u001b[0m \u001b[0;34m\u001b[0m\u001b[0m\n\u001b[1;32m     10\u001b[0m \u001b[0;31m#segitiga\u001b[0m\u001b[0;34m\u001b[0m\u001b[0;34m\u001b[0m\u001b[0m\n\u001b[0;32m---> 11\u001b[0;31m \u001b[0mx\u001b[0m \u001b[0;34m=\u001b[0m \u001b[0mluas_segitiga\u001b[0m\u001b[0;34m(\u001b[0m\u001b[0;36m10\u001b[0m\u001b[0;34m,\u001b[0m \u001b[0;36m10\u001b[0m\u001b[0;34m)\u001b[0m\u001b[0;34m\u001b[0m\u001b[0;34m\u001b[0m\u001b[0m\n\u001b[0m\u001b[1;32m     12\u001b[0m \u001b[0mprint\u001b[0m\u001b[0;34m(\u001b[0m\u001b[0mx\u001b[0m\u001b[0;34m)\u001b[0m\u001b[0;34m\u001b[0m\u001b[0;34m\u001b[0m\u001b[0m\n",
            "\u001b[0;31mNameError\u001b[0m: name 'luas_segitiga' is not defined"
          ]
        }
      ]
    }
  ]
}